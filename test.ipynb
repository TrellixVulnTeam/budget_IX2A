{
 "metadata": {
  "language_info": {
   "codemirror_mode": {
    "name": "ipython",
    "version": 3
   },
   "file_extension": ".py",
   "mimetype": "text/x-python",
   "name": "python",
   "nbconvert_exporter": "python",
   "pygments_lexer": "ipython3",
   "version": "3.9.1-final"
  },
  "orig_nbformat": 2,
  "kernelspec": {
   "name": "python3",
   "display_name": "Python 3.9.1 64-bit ('budget': conda)",
   "metadata": {
    "interpreter": {
     "hash": "76ad0f5bc9d8f1a028f98df54606bce9f80382f8cc45d3df6477efabc85c159c"
    }
   }
  }
 },
 "nbformat": 4,
 "nbformat_minor": 2,
 "cells": [
  {
   "cell_type": "code",
   "execution_count": 16,
   "metadata": {},
   "outputs": [],
   "source": [
    "from datetime import datetime\n",
    "\n",
    "import configparser\n",
    "import pandas as pd"
   ]
  },
  {
   "cell_type": "code",
   "execution_count": 17,
   "metadata": {},
   "outputs": [],
   "source": [
    "config = configparser.ConfigParser()\n",
    "config.read('config.ini')\n",
    "last_paid = datetime.strptime(config['DEFAULT']['last_paid'], '%Y-%m-%d')\n",
    "mint_analysis = datetime.strptime(config['DEFAULT']['mint_analysis'], '%Y-%m-%d')"
   ]
  },
  {
   "cell_type": "code",
   "execution_count": 18,
   "metadata": {},
   "outputs": [],
   "source": [
    "chase = pd.read_csv('ChaseCC.csv')\n",
    "citi = pd.read_csv('CitiCC.csv')\n",
    "mint = pd.read_csv('Mint.csv')"
   ]
  },
  {
   "cell_type": "code",
   "execution_count": 19,
   "metadata": {},
   "outputs": [],
   "source": [
    "chase['trans_date'] = pd.to_datetime(chase['Transaction Date'])\n",
    "citi['trans_date'] = pd.to_datetime(citi['Date'])\n",
    "mint['trans_date'] = pd.to_datetime(mint['Date'])"
   ]
  },
  {
   "cell_type": "code",
   "execution_count": 20,
   "metadata": {},
   "outputs": [],
   "source": [
    "chase = chase[chase['trans_date'] > last_paid]\n",
    "chase = chase[chase['Type'] != 'Payment']\n",
    "citi = citi[citi['trans_date'] > last_paid]\n",
    "citi = citi[~citi['Description'].str.contains('PAYMENT, THANK YOU')]\n",
    "mint = mint[mint['trans_date'] > mint_analysis]"
   ]
  },
  {
   "cell_type": "code",
   "execution_count": 21,
   "metadata": {},
   "outputs": [],
   "source": [
    "chase['amt'] = chase['Amount'] * -1"
   ]
  },
  {
   "cell_type": "code",
   "execution_count": 22,
   "metadata": {},
   "outputs": [],
   "source": [
    "citi.loc[(citi['Debit'].notnull()), 'amt'] = citi['Debit']\n",
    "citi.loc[(citi['Credit'].notnull()), 'amt'] = citi['Credit']"
   ]
  },
  {
   "cell_type": "code",
   "execution_count": 23,
   "metadata": {},
   "outputs": [],
   "source": [
    "mint.loc[(mint['Transaction Type'] == 'debit'), 'amt'] = mint['Amount']\n",
    "mint.loc[(mint['Transaction Type'] == 'credit'), 'amt'] = mint['Amount'] * -1"
   ]
  },
  {
   "cell_type": "code",
   "execution_count": 24,
   "metadata": {},
   "outputs": [],
   "source": [
    "chase = chase[['trans_date', 'amt', 'Description']]\n",
    "citi = citi[['trans_date', 'amt', 'Description']]\n",
    "mint = mint[['trans_date', 'amt', 'Category', 'Description', 'Original Description']]"
   ]
  },
  {
   "cell_type": "code",
   "execution_count": 25,
   "metadata": {},
   "outputs": [
    {
     "output_type": "execute_result",
     "data": {
      "text/plain": [
       "  trans_date     amt         Description\n",
       "0 2020-12-21   47.69         UBER   EATS\n",
       "1 2020-12-16   25.00  TVY*FITNESSYOURWAY\n",
       "2 2020-12-14   32.66         UBER   EATS\n",
       "3 2020-12-13   42.77         UBER   EATS\n",
       "4 2020-12-10  114.54    SPRINT *WIRELESS"
      ],
      "text/html": "<div>\n<style scoped>\n    .dataframe tbody tr th:only-of-type {\n        vertical-align: middle;\n    }\n\n    .dataframe tbody tr th {\n        vertical-align: top;\n    }\n\n    .dataframe thead th {\n        text-align: right;\n    }\n</style>\n<table border=\"1\" class=\"dataframe\">\n  <thead>\n    <tr style=\"text-align: right;\">\n      <th></th>\n      <th>trans_date</th>\n      <th>amt</th>\n      <th>Description</th>\n    </tr>\n  </thead>\n  <tbody>\n    <tr>\n      <th>0</th>\n      <td>2020-12-21</td>\n      <td>47.69</td>\n      <td>UBER   EATS</td>\n    </tr>\n    <tr>\n      <th>1</th>\n      <td>2020-12-16</td>\n      <td>25.00</td>\n      <td>TVY*FITNESSYOURWAY</td>\n    </tr>\n    <tr>\n      <th>2</th>\n      <td>2020-12-14</td>\n      <td>32.66</td>\n      <td>UBER   EATS</td>\n    </tr>\n    <tr>\n      <th>3</th>\n      <td>2020-12-13</td>\n      <td>42.77</td>\n      <td>UBER   EATS</td>\n    </tr>\n    <tr>\n      <th>4</th>\n      <td>2020-12-10</td>\n      <td>114.54</td>\n      <td>SPRINT *WIRELESS</td>\n    </tr>\n  </tbody>\n</table>\n</div>"
     },
     "metadata": {},
     "execution_count": 25
    }
   ],
   "source": [
    "chase.head(5)"
   ]
  },
  {
   "cell_type": "code",
   "execution_count": 26,
   "metadata": {},
   "outputs": [
    {
     "output_type": "execute_result",
     "data": {
      "text/plain": [
       "  trans_date     amt                                        Description\n",
       "0 2020-12-24 -449.99  PAYPAL *B H PHOTO 4029357733 NY Digital Accoun...\n",
       "1 2020-12-24    6.36                PAYPAL *AMAGICOM AB 35314369001 SWE\n",
       "2 2020-12-22  115.62                 TRADER JOE'S #692 QPS BRENTWOOD MO\n",
       "3 2020-12-21   10.69  PAYPAL *SPOTIFYUSAI 4029357733 NY Digital Acco...\n",
       "4 2020-12-19  126.14               Amazon Prime*YG8V21593 8665572820 WA"
      ],
      "text/html": "<div>\n<style scoped>\n    .dataframe tbody tr th:only-of-type {\n        vertical-align: middle;\n    }\n\n    .dataframe tbody tr th {\n        vertical-align: top;\n    }\n\n    .dataframe thead th {\n        text-align: right;\n    }\n</style>\n<table border=\"1\" class=\"dataframe\">\n  <thead>\n    <tr style=\"text-align: right;\">\n      <th></th>\n      <th>trans_date</th>\n      <th>amt</th>\n      <th>Description</th>\n    </tr>\n  </thead>\n  <tbody>\n    <tr>\n      <th>0</th>\n      <td>2020-12-24</td>\n      <td>-449.99</td>\n      <td>PAYPAL *B H PHOTO 4029357733 NY Digital Accoun...</td>\n    </tr>\n    <tr>\n      <th>1</th>\n      <td>2020-12-24</td>\n      <td>6.36</td>\n      <td>PAYPAL *AMAGICOM AB 35314369001 SWE</td>\n    </tr>\n    <tr>\n      <th>2</th>\n      <td>2020-12-22</td>\n      <td>115.62</td>\n      <td>TRADER JOE'S #692 QPS BRENTWOOD MO</td>\n    </tr>\n    <tr>\n      <th>3</th>\n      <td>2020-12-21</td>\n      <td>10.69</td>\n      <td>PAYPAL *SPOTIFYUSAI 4029357733 NY Digital Acco...</td>\n    </tr>\n    <tr>\n      <th>4</th>\n      <td>2020-12-19</td>\n      <td>126.14</td>\n      <td>Amazon Prime*YG8V21593 8665572820 WA</td>\n    </tr>\n  </tbody>\n</table>\n</div>"
     },
     "metadata": {},
     "execution_count": 26
    }
   ],
   "source": [
    "citi.head(5)"
   ]
  },
  {
   "cell_type": "code",
   "execution_count": 27,
   "metadata": {},
   "outputs": [
    {
     "output_type": "execute_result",
     "data": {
      "text/plain": [
       "  trans_date      amt             Category  \\\n",
       "0 2020-12-26 -1550.96  Credit Card Payment   \n",
       "1 2020-12-24   498.32             Shopping   \n",
       "2 2020-12-25    -8.86      Interest Income   \n",
       "3 2020-12-24  -449.99             Shopping   \n",
       "4 2020-12-24     6.36             Shopping   \n",
       "\n",
       "                           Description                 Original Description  \n",
       "0                    PAYMENT THANK YOU                    PAYMENT THANK YOU  \n",
       "1  MICRO CENTER BRNTWD-09 BRENTWOOD MO  MICRO CENTER BRNTWD-09 BRENTWOOD MO  \n",
       "2                        Interest Paid                        Interest Paid  \n",
       "3                            B H Photo      PAYPAL *B H PHOTO 4029357733 NY  \n",
       "4          AMAGICOM AB 35314369001 SWE  PAYPAL *AMAGICOM AB 35314369001 SWE  "
      ],
      "text/html": "<div>\n<style scoped>\n    .dataframe tbody tr th:only-of-type {\n        vertical-align: middle;\n    }\n\n    .dataframe tbody tr th {\n        vertical-align: top;\n    }\n\n    .dataframe thead th {\n        text-align: right;\n    }\n</style>\n<table border=\"1\" class=\"dataframe\">\n  <thead>\n    <tr style=\"text-align: right;\">\n      <th></th>\n      <th>trans_date</th>\n      <th>amt</th>\n      <th>Category</th>\n      <th>Description</th>\n      <th>Original Description</th>\n    </tr>\n  </thead>\n  <tbody>\n    <tr>\n      <th>0</th>\n      <td>2020-12-26</td>\n      <td>-1550.96</td>\n      <td>Credit Card Payment</td>\n      <td>PAYMENT THANK YOU</td>\n      <td>PAYMENT THANK YOU</td>\n    </tr>\n    <tr>\n      <th>1</th>\n      <td>2020-12-24</td>\n      <td>498.32</td>\n      <td>Shopping</td>\n      <td>MICRO CENTER BRNTWD-09 BRENTWOOD MO</td>\n      <td>MICRO CENTER BRNTWD-09 BRENTWOOD MO</td>\n    </tr>\n    <tr>\n      <th>2</th>\n      <td>2020-12-25</td>\n      <td>-8.86</td>\n      <td>Interest Income</td>\n      <td>Interest Paid</td>\n      <td>Interest Paid</td>\n    </tr>\n    <tr>\n      <th>3</th>\n      <td>2020-12-24</td>\n      <td>-449.99</td>\n      <td>Shopping</td>\n      <td>B H Photo</td>\n      <td>PAYPAL *B H PHOTO 4029357733 NY</td>\n    </tr>\n    <tr>\n      <th>4</th>\n      <td>2020-12-24</td>\n      <td>6.36</td>\n      <td>Shopping</td>\n      <td>AMAGICOM AB 35314369001 SWE</td>\n      <td>PAYPAL *AMAGICOM AB 35314369001 SWE</td>\n    </tr>\n  </tbody>\n</table>\n</div>"
     },
     "metadata": {},
     "execution_count": 27
    }
   ],
   "source": [
    "mint.head(5)"
   ]
  },
  {
   "cell_type": "code",
   "execution_count": 29,
   "metadata": {},
   "outputs": [
    {
     "output_type": "execute_result",
     "data": {
      "text/plain": [
       "17252.749999999996"
      ]
     },
     "metadata": {},
     "execution_count": 29
    }
   ],
   "source": [
    "mint['amt'].sum()"
   ]
  },
  {
   "cell_type": "code",
   "execution_count": null,
   "metadata": {},
   "outputs": [],
   "source": []
  }
 ]
}