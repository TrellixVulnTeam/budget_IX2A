{
 "metadata": {
  "language_info": {
   "codemirror_mode": {
    "name": "ipython",
    "version": 3
   },
   "file_extension": ".py",
   "mimetype": "text/x-python",
   "name": "python",
   "nbconvert_exporter": "python",
   "pygments_lexer": "ipython3",
   "version": "3.9.1-final"
  },
  "orig_nbformat": 2,
  "kernelspec": {
   "name": "python3",
   "display_name": "Python 3.8.5 64-bit",
   "metadata": {
    "interpreter": {
     "hash": "76ad0f5bc9d8f1a028f98df54606bce9f80382f8cc45d3df6477efabc85c159c"
    }
   }
  }
 },
 "nbformat": 4,
 "nbformat_minor": 2,
 "cells": [
  {
   "cell_type": "code",
   "execution_count": 1,
   "metadata": {},
   "outputs": [],
   "source": [
    "from datetime import datetime, timedelta\n",
    "from fractions import Fraction\n",
    "\n",
    "import configparser\n",
    "import pandas as pd"
   ]
  },
  {
   "cell_type": "code",
   "execution_count": 2,
   "metadata": {},
   "outputs": [],
   "source": [
    "config = configparser.ConfigParser()\n",
    "config.read('config.ini')\n",
    "last_paid = datetime.strptime(config['DEFAULT']['last_paid'], '%Y-%m-%d')\n",
    "mint_analysis = datetime.strptime(config['DEFAULT']['mint_analysis'], '%Y-%m-%d')"
   ]
  },
  {
   "cell_type": "code",
   "execution_count": 3,
   "metadata": {},
   "outputs": [],
   "source": [
    "chase = pd.read_csv('ChaseCC.csv')\n",
    "citi = pd.read_csv('CitiCC.csv')\n",
    "mint = pd.read_csv('Mint.csv')"
   ]
  },
  {
   "cell_type": "code",
   "execution_count": 4,
   "metadata": {},
   "outputs": [],
   "source": [
    "chase['trans_date'] = pd.to_datetime(chase['Transaction Date'])\n",
    "citi['trans_date'] = pd.to_datetime(citi['Date'])\n",
    "mint['trans_date'] = pd.to_datetime(mint['Date'])"
   ]
  },
  {
   "cell_type": "code",
   "execution_count": 5,
   "metadata": {},
   "outputs": [],
   "source": [
    "chase = chase[chase['trans_date'] > last_paid]\n",
    "chase = chase[chase['Type'] != 'Payment']\n",
    "citi = citi[citi['trans_date'] > last_paid]\n",
    "citi = citi[~citi['Description'].str.contains('PAYMENT, THANK YOU')]\n",
    "mint = mint[mint['trans_date'] > mint_analysis]"
   ]
  },
  {
   "cell_type": "code",
   "execution_count": 6,
   "metadata": {},
   "outputs": [],
   "source": [
    "chase['amt'] = chase['Amount'] * -1"
   ]
  },
  {
   "cell_type": "code",
   "execution_count": 7,
   "metadata": {},
   "outputs": [],
   "source": [
    "citi.loc[(citi['Debit'].notnull()), 'amt'] = citi['Debit']\n",
    "citi.loc[(citi['Credit'].notnull()), 'amt'] = citi['Credit']"
   ]
  },
  {
   "cell_type": "code",
   "execution_count": 8,
   "metadata": {},
   "outputs": [],
   "source": [
    "mint.loc[(mint['Transaction Type'] == 'debit'), 'amt'] = mint['Amount']\n",
    "mint.loc[(mint['Transaction Type'] == 'credit'), 'amt'] = mint['Amount'] * -1"
   ]
  },
  {
   "cell_type": "code",
   "execution_count": 9,
   "metadata": {},
   "outputs": [],
   "source": [
    "chase = chase[['trans_date', 'amt', 'Description']]\n",
    "citi = citi[['trans_date', 'amt', 'Description']]\n",
    "mint = mint[['trans_date', 'amt', 'Category', 'Description', 'Original Description']]"
   ]
  },
  {
   "cell_type": "code",
   "execution_count": 10,
   "metadata": {},
   "outputs": [
    {
     "output_type": "execute_result",
     "data": {
      "text/plain": [
       "  trans_date     amt         Description\n",
       "0 2020-12-21   47.69         UBER   EATS\n",
       "1 2020-12-16   25.00  TVY*FITNESSYOURWAY\n",
       "2 2020-12-14   32.66         UBER   EATS\n",
       "3 2020-12-13   42.77         UBER   EATS\n",
       "4 2020-12-10  114.54    SPRINT *WIRELESS"
      ],
      "text/html": "<div>\n<style scoped>\n    .dataframe tbody tr th:only-of-type {\n        vertical-align: middle;\n    }\n\n    .dataframe tbody tr th {\n        vertical-align: top;\n    }\n\n    .dataframe thead th {\n        text-align: right;\n    }\n</style>\n<table border=\"1\" class=\"dataframe\">\n  <thead>\n    <tr style=\"text-align: right;\">\n      <th></th>\n      <th>trans_date</th>\n      <th>amt</th>\n      <th>Description</th>\n    </tr>\n  </thead>\n  <tbody>\n    <tr>\n      <th>0</th>\n      <td>2020-12-21</td>\n      <td>47.69</td>\n      <td>UBER   EATS</td>\n    </tr>\n    <tr>\n      <th>1</th>\n      <td>2020-12-16</td>\n      <td>25.00</td>\n      <td>TVY*FITNESSYOURWAY</td>\n    </tr>\n    <tr>\n      <th>2</th>\n      <td>2020-12-14</td>\n      <td>32.66</td>\n      <td>UBER   EATS</td>\n    </tr>\n    <tr>\n      <th>3</th>\n      <td>2020-12-13</td>\n      <td>42.77</td>\n      <td>UBER   EATS</td>\n    </tr>\n    <tr>\n      <th>4</th>\n      <td>2020-12-10</td>\n      <td>114.54</td>\n      <td>SPRINT *WIRELESS</td>\n    </tr>\n  </tbody>\n</table>\n</div>"
     },
     "metadata": {},
     "execution_count": 10
    }
   ],
   "source": [
    "chase.head(5)"
   ]
  },
  {
   "cell_type": "code",
   "execution_count": 11,
   "metadata": {},
   "outputs": [
    {
     "output_type": "execute_result",
     "data": {
      "text/plain": [
       "  trans_date     amt                                        Description\n",
       "0 2020-12-24 -449.99  PAYPAL *B H PHOTO 4029357733 NY Digital Accoun...\n",
       "1 2020-12-24    6.36                PAYPAL *AMAGICOM AB 35314369001 SWE\n",
       "2 2020-12-22  115.62                 TRADER JOE'S #692 QPS BRENTWOOD MO\n",
       "3 2020-12-21   10.69  PAYPAL *SPOTIFYUSAI 4029357733 NY Digital Acco...\n",
       "4 2020-12-19  126.14               Amazon Prime*YG8V21593 8665572820 WA"
      ],
      "text/html": "<div>\n<style scoped>\n    .dataframe tbody tr th:only-of-type {\n        vertical-align: middle;\n    }\n\n    .dataframe tbody tr th {\n        vertical-align: top;\n    }\n\n    .dataframe thead th {\n        text-align: right;\n    }\n</style>\n<table border=\"1\" class=\"dataframe\">\n  <thead>\n    <tr style=\"text-align: right;\">\n      <th></th>\n      <th>trans_date</th>\n      <th>amt</th>\n      <th>Description</th>\n    </tr>\n  </thead>\n  <tbody>\n    <tr>\n      <th>0</th>\n      <td>2020-12-24</td>\n      <td>-449.99</td>\n      <td>PAYPAL *B H PHOTO 4029357733 NY Digital Accoun...</td>\n    </tr>\n    <tr>\n      <th>1</th>\n      <td>2020-12-24</td>\n      <td>6.36</td>\n      <td>PAYPAL *AMAGICOM AB 35314369001 SWE</td>\n    </tr>\n    <tr>\n      <th>2</th>\n      <td>2020-12-22</td>\n      <td>115.62</td>\n      <td>TRADER JOE'S #692 QPS BRENTWOOD MO</td>\n    </tr>\n    <tr>\n      <th>3</th>\n      <td>2020-12-21</td>\n      <td>10.69</td>\n      <td>PAYPAL *SPOTIFYUSAI 4029357733 NY Digital Acco...</td>\n    </tr>\n    <tr>\n      <th>4</th>\n      <td>2020-12-19</td>\n      <td>126.14</td>\n      <td>Amazon Prime*YG8V21593 8665572820 WA</td>\n    </tr>\n  </tbody>\n</table>\n</div>"
     },
     "metadata": {},
     "execution_count": 11
    }
   ],
   "source": [
    "citi.head(5)"
   ]
  },
  {
   "cell_type": "code",
   "execution_count": 12,
   "metadata": {},
   "outputs": [
    {
     "output_type": "execute_result",
     "data": {
      "text/plain": [
       "  trans_date      amt             Category       Description  \\\n",
       "0 2020-12-28   115.24            Groceries      Trader Joe's   \n",
       "1 2020-12-28   262.66  Credit Card Payment  CHASE CREDIT CRD   \n",
       "2 2020-12-28  1550.96  Credit Card Payment  CITI CARD ONLINE   \n",
       "3 2020-12-27    12.48          Restaurants         Uber Eats   \n",
       "4 2020-12-27    32.68          Restaurants          Uber.com   \n",
       "\n",
       "              Original Description  \n",
       "0  TRADER JOE'S # 692 BRENTWOOD MO  \n",
       "1       ACH DEBIT CHASE CREDIT CRD  \n",
       "2       ACH DEBIT CITI CARD ONLINE  \n",
       "3                     UBER   *EATS  \n",
       "4            UBER   * EATS PENDING  "
      ],
      "text/html": "<div>\n<style scoped>\n    .dataframe tbody tr th:only-of-type {\n        vertical-align: middle;\n    }\n\n    .dataframe tbody tr th {\n        vertical-align: top;\n    }\n\n    .dataframe thead th {\n        text-align: right;\n    }\n</style>\n<table border=\"1\" class=\"dataframe\">\n  <thead>\n    <tr style=\"text-align: right;\">\n      <th></th>\n      <th>trans_date</th>\n      <th>amt</th>\n      <th>Category</th>\n      <th>Description</th>\n      <th>Original Description</th>\n    </tr>\n  </thead>\n  <tbody>\n    <tr>\n      <th>0</th>\n      <td>2020-12-28</td>\n      <td>115.24</td>\n      <td>Groceries</td>\n      <td>Trader Joe's</td>\n      <td>TRADER JOE'S # 692 BRENTWOOD MO</td>\n    </tr>\n    <tr>\n      <th>1</th>\n      <td>2020-12-28</td>\n      <td>262.66</td>\n      <td>Credit Card Payment</td>\n      <td>CHASE CREDIT CRD</td>\n      <td>ACH DEBIT CHASE CREDIT CRD</td>\n    </tr>\n    <tr>\n      <th>2</th>\n      <td>2020-12-28</td>\n      <td>1550.96</td>\n      <td>Credit Card Payment</td>\n      <td>CITI CARD ONLINE</td>\n      <td>ACH DEBIT CITI CARD ONLINE</td>\n    </tr>\n    <tr>\n      <th>3</th>\n      <td>2020-12-27</td>\n      <td>12.48</td>\n      <td>Restaurants</td>\n      <td>Uber Eats</td>\n      <td>UBER   *EATS</td>\n    </tr>\n    <tr>\n      <th>4</th>\n      <td>2020-12-27</td>\n      <td>32.68</td>\n      <td>Restaurants</td>\n      <td>Uber.com</td>\n      <td>UBER   * EATS PENDING</td>\n    </tr>\n  </tbody>\n</table>\n</div>"
     },
     "metadata": {},
     "execution_count": 12
    }
   ],
   "source": [
    "mint.head(5)"
   ]
  },
  {
   "cell_type": "code",
   "execution_count": 13,
   "metadata": {},
   "outputs": [
    {
     "output_type": "execute_result",
     "data": {
      "text/plain": [
       "1492.11"
      ]
     },
     "metadata": {},
     "execution_count": 13
    }
   ],
   "source": [
    "round(citi['amt'].sum(),2)"
   ]
  },
  {
   "cell_type": "code",
   "execution_count": 14,
   "metadata": {},
   "outputs": [
    {
     "output_type": "execute_result",
     "data": {
      "text/plain": [
       "4855.95"
      ]
     },
     "metadata": {},
     "execution_count": 14
    }
   ],
   "source": [
    "income_bk = round(float(config['BUDGET']['income_bk_raw']) * float(Fraction(config['BUDGET']['income_bk_mult'])),2)\r\n",
    "income_bk"
   ]
  },
  {
   "cell_type": "code",
   "execution_count": 15,
   "metadata": {},
   "outputs": [
    {
     "output_type": "execute_result",
     "data": {
      "text/plain": [
       "   sort1  sort2  sort3         category sub_group   group  show_cat  show_sub  \\\n",
       "0      1      0      0           Income    Income  Income     False     False   \n",
       "1      1      1      1         Paycheck    Income  Income      True     False   \n",
       "2      1      1      2            Bonus    Income  Income     False     False   \n",
       "3      1      1      3  Interest Income    Income  Income     False     False   \n",
       "4      1      1      4    Rental Income    Income  Income     False     False   \n",
       "\n",
       "   show_group necessity  \n",
       "0       False    Ignore  \n",
       "1       False    Ignore  \n",
       "2       False    Ignore  \n",
       "3       False    Ignore  \n",
       "4       False    Ignore  "
      ],
      "text/html": "<div>\n<style scoped>\n    .dataframe tbody tr th:only-of-type {\n        vertical-align: middle;\n    }\n\n    .dataframe tbody tr th {\n        vertical-align: top;\n    }\n\n    .dataframe thead th {\n        text-align: right;\n    }\n</style>\n<table border=\"1\" class=\"dataframe\">\n  <thead>\n    <tr style=\"text-align: right;\">\n      <th></th>\n      <th>sort1</th>\n      <th>sort2</th>\n      <th>sort3</th>\n      <th>category</th>\n      <th>sub_group</th>\n      <th>group</th>\n      <th>show_cat</th>\n      <th>show_sub</th>\n      <th>show_group</th>\n      <th>necessity</th>\n    </tr>\n  </thead>\n  <tbody>\n    <tr>\n      <th>0</th>\n      <td>1</td>\n      <td>0</td>\n      <td>0</td>\n      <td>Income</td>\n      <td>Income</td>\n      <td>Income</td>\n      <td>False</td>\n      <td>False</td>\n      <td>False</td>\n      <td>Ignore</td>\n    </tr>\n    <tr>\n      <th>1</th>\n      <td>1</td>\n      <td>1</td>\n      <td>1</td>\n      <td>Paycheck</td>\n      <td>Income</td>\n      <td>Income</td>\n      <td>True</td>\n      <td>False</td>\n      <td>False</td>\n      <td>Ignore</td>\n    </tr>\n    <tr>\n      <th>2</th>\n      <td>1</td>\n      <td>1</td>\n      <td>2</td>\n      <td>Bonus</td>\n      <td>Income</td>\n      <td>Income</td>\n      <td>False</td>\n      <td>False</td>\n      <td>False</td>\n      <td>Ignore</td>\n    </tr>\n    <tr>\n      <th>3</th>\n      <td>1</td>\n      <td>1</td>\n      <td>3</td>\n      <td>Interest Income</td>\n      <td>Income</td>\n      <td>Income</td>\n      <td>False</td>\n      <td>False</td>\n      <td>False</td>\n      <td>Ignore</td>\n    </tr>\n    <tr>\n      <th>4</th>\n      <td>1</td>\n      <td>1</td>\n      <td>4</td>\n      <td>Rental Income</td>\n      <td>Income</td>\n      <td>Income</td>\n      <td>False</td>\n      <td>False</td>\n      <td>False</td>\n      <td>Ignore</td>\n    </tr>\n  </tbody>\n</table>\n</div>"
     },
     "metadata": {},
     "execution_count": 15
    }
   ],
   "source": [
    "categories = pd.read_excel('budget_categories.xlsx', sheet_name='main', engine='openpyxl')\n",
    "categories.sort_values(by=['sort1', 'sort2', 'sort3'], inplace=True)\n",
    "categories.reset_index(drop=True, inplace=True)\n",
    "categories.head(5)"
   ]
  },
  {
   "cell_type": "code",
   "execution_count": 16,
   "metadata": {},
   "outputs": [
    {
     "output_type": "execute_result",
     "data": {
      "text/plain": [
       "                         amt\n",
       "Category                    \n",
       "Alcohol & Bars         26.55\n",
       "Credit Card Payment  1534.63\n",
       "Electric              191.94\n",
       "Entertainment          45.68\n",
       "Financial             982.20"
      ],
      "text/html": "<div>\n<style scoped>\n    .dataframe tbody tr th:only-of-type {\n        vertical-align: middle;\n    }\n\n    .dataframe tbody tr th {\n        vertical-align: top;\n    }\n\n    .dataframe thead th {\n        text-align: right;\n    }\n</style>\n<table border=\"1\" class=\"dataframe\">\n  <thead>\n    <tr style=\"text-align: right;\">\n      <th></th>\n      <th>amt</th>\n    </tr>\n    <tr>\n      <th>Category</th>\n      <th></th>\n    </tr>\n  </thead>\n  <tbody>\n    <tr>\n      <th>Alcohol &amp; Bars</th>\n      <td>26.55</td>\n    </tr>\n    <tr>\n      <th>Credit Card Payment</th>\n      <td>1534.63</td>\n    </tr>\n    <tr>\n      <th>Electric</th>\n      <td>191.94</td>\n    </tr>\n    <tr>\n      <th>Entertainment</th>\n      <td>45.68</td>\n    </tr>\n    <tr>\n      <th>Financial</th>\n      <td>982.20</td>\n    </tr>\n  </tbody>\n</table>\n</div>"
     },
     "metadata": {},
     "execution_count": 16
    }
   ],
   "source": [
    "mint = mint.groupby(by=['Category']).sum()\n",
    "mint.head(5)"
   ]
  },
  {
   "cell_type": "code",
   "execution_count": 17,
   "metadata": {},
   "outputs": [
    {
     "output_type": "execute_result",
     "data": {
      "text/plain": [
       "   sort1  sort2  sort3         category sub_group   group  show_cat  show_sub  \\\n",
       "0      1      0      0           Income    Income  Income     False     False   \n",
       "1      1      1      1         Paycheck    Income  Income      True     False   \n",
       "2      1      1      2            Bonus    Income  Income     False     False   \n",
       "3      1      1      3  Interest Income    Income  Income     False     False   \n",
       "4      1      1      4    Rental Income    Income  Income     False     False   \n",
       "\n",
       "   show_group necessity       amt  \n",
       "0       False    Ignore       NaN  \n",
       "1       False    Ignore -13522.30  \n",
       "2       False    Ignore       NaN  \n",
       "3       False    Ignore    -36.31  \n",
       "4       False    Ignore       NaN  "
      ],
      "text/html": "<div>\n<style scoped>\n    .dataframe tbody tr th:only-of-type {\n        vertical-align: middle;\n    }\n\n    .dataframe tbody tr th {\n        vertical-align: top;\n    }\n\n    .dataframe thead th {\n        text-align: right;\n    }\n</style>\n<table border=\"1\" class=\"dataframe\">\n  <thead>\n    <tr style=\"text-align: right;\">\n      <th></th>\n      <th>sort1</th>\n      <th>sort2</th>\n      <th>sort3</th>\n      <th>category</th>\n      <th>sub_group</th>\n      <th>group</th>\n      <th>show_cat</th>\n      <th>show_sub</th>\n      <th>show_group</th>\n      <th>necessity</th>\n      <th>amt</th>\n    </tr>\n  </thead>\n  <tbody>\n    <tr>\n      <th>0</th>\n      <td>1</td>\n      <td>0</td>\n      <td>0</td>\n      <td>Income</td>\n      <td>Income</td>\n      <td>Income</td>\n      <td>False</td>\n      <td>False</td>\n      <td>False</td>\n      <td>Ignore</td>\n      <td>NaN</td>\n    </tr>\n    <tr>\n      <th>1</th>\n      <td>1</td>\n      <td>1</td>\n      <td>1</td>\n      <td>Paycheck</td>\n      <td>Income</td>\n      <td>Income</td>\n      <td>True</td>\n      <td>False</td>\n      <td>False</td>\n      <td>Ignore</td>\n      <td>-13522.30</td>\n    </tr>\n    <tr>\n      <th>2</th>\n      <td>1</td>\n      <td>1</td>\n      <td>2</td>\n      <td>Bonus</td>\n      <td>Income</td>\n      <td>Income</td>\n      <td>False</td>\n      <td>False</td>\n      <td>False</td>\n      <td>Ignore</td>\n      <td>NaN</td>\n    </tr>\n    <tr>\n      <th>3</th>\n      <td>1</td>\n      <td>1</td>\n      <td>3</td>\n      <td>Interest Income</td>\n      <td>Income</td>\n      <td>Income</td>\n      <td>False</td>\n      <td>False</td>\n      <td>False</td>\n      <td>Ignore</td>\n      <td>-36.31</td>\n    </tr>\n    <tr>\n      <th>4</th>\n      <td>1</td>\n      <td>1</td>\n      <td>4</td>\n      <td>Rental Income</td>\n      <td>Income</td>\n      <td>Income</td>\n      <td>False</td>\n      <td>False</td>\n      <td>False</td>\n      <td>Ignore</td>\n      <td>NaN</td>\n    </tr>\n  </tbody>\n</table>\n</div>"
     },
     "metadata": {},
     "execution_count": 17
    }
   ],
   "source": [
    "budget_temp = categories.merge(mint, how='left', left_on='category', right_on='Category')\n",
    "budget_temp.head(5)"
   ]
  },
  {
   "cell_type": "code",
   "execution_count": 18,
   "metadata": {},
   "outputs": [],
   "source": [
    "months_mint = ((datetime.today() - mint_analysis).days)/(365.25/12)\n",
    "budget_temp['amt'] = round(budget_temp['amt']/months_mint,2)"
   ]
  },
  {
   "cell_type": "code",
   "execution_count": 19,
   "metadata": {},
   "outputs": [
    {
     "output_type": "execute_result",
     "data": {
      "text/plain": [
       "   sort1  sort2  sort3         category sub_group   group  show_cat  show_sub  \\\n",
       "0      1      0      0           Income    Income  Income     False     False   \n",
       "1      1      1      1         Paycheck    Income  Income      True     False   \n",
       "2      1      1      2            Bonus    Income  Income     False     False   \n",
       "3      1      1      3  Interest Income    Income  Income     False     False   \n",
       "4      1      1      4    Rental Income    Income  Income     False     False   \n",
       "\n",
       "   show_group necessity      amt     amt2     amt3  \n",
       "0       False    Ignore      NaN -3527.27 -3527.27  \n",
       "1       False    Ignore -3517.82 -3527.27 -3527.27  \n",
       "2       False    Ignore      NaN -3527.27 -3527.27  \n",
       "3       False    Ignore    -9.45 -3527.27 -3527.27  \n",
       "4       False    Ignore      NaN -3527.27 -3527.27  "
      ],
      "text/html": "<div>\n<style scoped>\n    .dataframe tbody tr th:only-of-type {\n        vertical-align: middle;\n    }\n\n    .dataframe tbody tr th {\n        vertical-align: top;\n    }\n\n    .dataframe thead th {\n        text-align: right;\n    }\n</style>\n<table border=\"1\" class=\"dataframe\">\n  <thead>\n    <tr style=\"text-align: right;\">\n      <th></th>\n      <th>sort1</th>\n      <th>sort2</th>\n      <th>sort3</th>\n      <th>category</th>\n      <th>sub_group</th>\n      <th>group</th>\n      <th>show_cat</th>\n      <th>show_sub</th>\n      <th>show_group</th>\n      <th>necessity</th>\n      <th>amt</th>\n      <th>amt2</th>\n      <th>amt3</th>\n    </tr>\n  </thead>\n  <tbody>\n    <tr>\n      <th>0</th>\n      <td>1</td>\n      <td>0</td>\n      <td>0</td>\n      <td>Income</td>\n      <td>Income</td>\n      <td>Income</td>\n      <td>False</td>\n      <td>False</td>\n      <td>False</td>\n      <td>Ignore</td>\n      <td>NaN</td>\n      <td>-3527.27</td>\n      <td>-3527.27</td>\n    </tr>\n    <tr>\n      <th>1</th>\n      <td>1</td>\n      <td>1</td>\n      <td>1</td>\n      <td>Paycheck</td>\n      <td>Income</td>\n      <td>Income</td>\n      <td>True</td>\n      <td>False</td>\n      <td>False</td>\n      <td>Ignore</td>\n      <td>-3517.82</td>\n      <td>-3527.27</td>\n      <td>-3527.27</td>\n    </tr>\n    <tr>\n      <th>2</th>\n      <td>1</td>\n      <td>1</td>\n      <td>2</td>\n      <td>Bonus</td>\n      <td>Income</td>\n      <td>Income</td>\n      <td>False</td>\n      <td>False</td>\n      <td>False</td>\n      <td>Ignore</td>\n      <td>NaN</td>\n      <td>-3527.27</td>\n      <td>-3527.27</td>\n    </tr>\n    <tr>\n      <th>3</th>\n      <td>1</td>\n      <td>1</td>\n      <td>3</td>\n      <td>Interest Income</td>\n      <td>Income</td>\n      <td>Income</td>\n      <td>False</td>\n      <td>False</td>\n      <td>False</td>\n      <td>Ignore</td>\n      <td>-9.45</td>\n      <td>-3527.27</td>\n      <td>-3527.27</td>\n    </tr>\n    <tr>\n      <th>4</th>\n      <td>1</td>\n      <td>1</td>\n      <td>4</td>\n      <td>Rental Income</td>\n      <td>Income</td>\n      <td>Income</td>\n      <td>False</td>\n      <td>False</td>\n      <td>False</td>\n      <td>Ignore</td>\n      <td>NaN</td>\n      <td>-3527.27</td>\n      <td>-3527.27</td>\n    </tr>\n  </tbody>\n</table>\n</div>"
     },
     "metadata": {},
     "execution_count": 19
    }
   ],
   "source": [
    "budget_temp['amt2'] = budget_temp.groupby(['sub_group'])['amt'].transform('sum')\r\n",
    "budget_temp['amt3'] = budget_temp.groupby(['group'])['amt'].transform('sum')\r\n",
    "budget_temp.sort_values(by=['sort1', 'sort2', 'sort3'], inplace=True)\r\n",
    "budget_temp.head(5)"
   ]
  },
  {
   "cell_type": "code",
   "execution_count": 20,
   "metadata": {},
   "outputs": [
    {
     "output_type": "execute_result",
     "data": {
      "text/plain": [
       "True"
      ]
     },
     "metadata": {},
     "execution_count": 20
    }
   ],
   "source": [
    "not budget_temp.loc[1, 'show_group']"
   ]
  },
  {
   "cell_type": "code",
   "execution_count": 21,
   "metadata": {
    "tags": []
   },
   "outputs": [],
   "source": [
    "budget_analysis = pd.DataFrame(columns = ['category', 'amt'])\n",
    "prev_group = ''\n",
    "prev_sub = ''\n",
    "prev_cat = ''\n",
    "count = 0\n",
    "for index, row in budget_temp.iterrows():\n",
    "    next_value = budget_temp.loc[index, 'group']\n",
    "    if next_value == prev_group or budget_temp.loc[index, 'show_group'] == False:\n",
    "        pass\n",
    "    else:\n",
    "        budget_analysis.loc[count, 'category'] = next_value\n",
    "        budget_analysis.loc[count, 'amt'] = budget_temp.loc[index, 'amt3']\n",
    "        prev_group = next_value\n",
    "        count += 1\n",
    "    next_value = budget_temp.loc[index, 'sub_group']\n",
    "    if next_value == prev_group or next_value == prev_sub or budget_temp.loc[index, 'show_sub'] == False:\n",
    "        pass\n",
    "    else:\n",
    "        budget_analysis.loc[count, 'category'] = next_value\n",
    "        budget_analysis.loc[count, 'amt'] = budget_temp.loc[index, 'amt2']\n",
    "        prev_sub = next_value\n",
    "        count += 1\n",
    "    next_value = budget_temp.loc[index, 'category']\n",
    "    if next_value == prev_group or next_value == prev_sub or next_value == prev_cat or budget_temp.loc[index, 'show_cat'] == False:\n",
    "        pass\n",
    "    else:\n",
    "        budget_analysis.loc[count, 'category'] = next_value\n",
    "        budget_analysis.loc[count, 'amt'] = budget_temp.loc[index, 'amt']\n",
    "        prev_cat = next_value\n",
    "        count += 1"
   ]
  },
  {
   "cell_type": "code",
   "execution_count": 22,
   "metadata": {},
   "outputs": [
    {
     "output_type": "execute_result",
     "data": {
      "text/plain": [
       "                 category      amt\n",
       "1         Mortgage & Rent  1716.99\n",
       "29          Misc Expenses  1488.66\n",
       "8               Groceries   410.37\n",
       "9             Restaurants   148.05\n",
       "3          Home Utilities    92.89\n",
       "6                   Phone    89.54\n",
       "4                Electric    49.93\n",
       "7                Internet    44.31\n",
       "5             Natural Gas    42.96\n",
       "25                    Gym    19.51\n",
       "24                Fitness    19.51\n",
       "26          Entertainment    18.79\n",
       "15         Transportation    11.72\n",
       "27                Spotify     8.34\n",
       "16             Gas & Fuel     5.78\n",
       "18                   Taxi     4.12\n",
       "17                Parking     1.82\n",
       "28          Personal Care      0.0\n",
       "30      Gifts & Donations      0.0\n",
       "31                 Travel      0.0\n",
       "21                 Health      0.0\n",
       "20                   Pets      0.0\n",
       "14        Service & Parts      0.0\n",
       "11         Auto Insurance      0.0\n",
       "10           Auto Payment      0.0\n",
       "2          Home Insurance      0.0\n",
       "0                Paycheck -3517.82\n",
       "12          Car Insurance      NaN\n",
       "13   Motorcycle Insurance      NaN\n",
       "19  Public Transportation      NaN\n",
       "22                 Doctor      NaN\n",
       "23                Dentist      NaN"
      ],
      "text/html": "<div>\n<style scoped>\n    .dataframe tbody tr th:only-of-type {\n        vertical-align: middle;\n    }\n\n    .dataframe tbody tr th {\n        vertical-align: top;\n    }\n\n    .dataframe thead th {\n        text-align: right;\n    }\n</style>\n<table border=\"1\" class=\"dataframe\">\n  <thead>\n    <tr style=\"text-align: right;\">\n      <th></th>\n      <th>category</th>\n      <th>amt</th>\n    </tr>\n  </thead>\n  <tbody>\n    <tr>\n      <th>1</th>\n      <td>Mortgage &amp; Rent</td>\n      <td>1716.99</td>\n    </tr>\n    <tr>\n      <th>29</th>\n      <td>Misc Expenses</td>\n      <td>1488.66</td>\n    </tr>\n    <tr>\n      <th>8</th>\n      <td>Groceries</td>\n      <td>410.37</td>\n    </tr>\n    <tr>\n      <th>9</th>\n      <td>Restaurants</td>\n      <td>148.05</td>\n    </tr>\n    <tr>\n      <th>3</th>\n      <td>Home Utilities</td>\n      <td>92.89</td>\n    </tr>\n    <tr>\n      <th>6</th>\n      <td>Phone</td>\n      <td>89.54</td>\n    </tr>\n    <tr>\n      <th>4</th>\n      <td>Electric</td>\n      <td>49.93</td>\n    </tr>\n    <tr>\n      <th>7</th>\n      <td>Internet</td>\n      <td>44.31</td>\n    </tr>\n    <tr>\n      <th>5</th>\n      <td>Natural Gas</td>\n      <td>42.96</td>\n    </tr>\n    <tr>\n      <th>25</th>\n      <td>Gym</td>\n      <td>19.51</td>\n    </tr>\n    <tr>\n      <th>24</th>\n      <td>Fitness</td>\n      <td>19.51</td>\n    </tr>\n    <tr>\n      <th>26</th>\n      <td>Entertainment</td>\n      <td>18.79</td>\n    </tr>\n    <tr>\n      <th>15</th>\n      <td>Transportation</td>\n      <td>11.72</td>\n    </tr>\n    <tr>\n      <th>27</th>\n      <td>Spotify</td>\n      <td>8.34</td>\n    </tr>\n    <tr>\n      <th>16</th>\n      <td>Gas &amp; Fuel</td>\n      <td>5.78</td>\n    </tr>\n    <tr>\n      <th>18</th>\n      <td>Taxi</td>\n      <td>4.12</td>\n    </tr>\n    <tr>\n      <th>17</th>\n      <td>Parking</td>\n      <td>1.82</td>\n    </tr>\n    <tr>\n      <th>28</th>\n      <td>Personal Care</td>\n      <td>0.0</td>\n    </tr>\n    <tr>\n      <th>30</th>\n      <td>Gifts &amp; Donations</td>\n      <td>0.0</td>\n    </tr>\n    <tr>\n      <th>31</th>\n      <td>Travel</td>\n      <td>0.0</td>\n    </tr>\n    <tr>\n      <th>21</th>\n      <td>Health</td>\n      <td>0.0</td>\n    </tr>\n    <tr>\n      <th>20</th>\n      <td>Pets</td>\n      <td>0.0</td>\n    </tr>\n    <tr>\n      <th>14</th>\n      <td>Service &amp; Parts</td>\n      <td>0.0</td>\n    </tr>\n    <tr>\n      <th>11</th>\n      <td>Auto Insurance</td>\n      <td>0.0</td>\n    </tr>\n    <tr>\n      <th>10</th>\n      <td>Auto Payment</td>\n      <td>0.0</td>\n    </tr>\n    <tr>\n      <th>2</th>\n      <td>Home Insurance</td>\n      <td>0.0</td>\n    </tr>\n    <tr>\n      <th>0</th>\n      <td>Paycheck</td>\n      <td>-3517.82</td>\n    </tr>\n    <tr>\n      <th>12</th>\n      <td>Car Insurance</td>\n      <td>NaN</td>\n    </tr>\n    <tr>\n      <th>13</th>\n      <td>Motorcycle Insurance</td>\n      <td>NaN</td>\n    </tr>\n    <tr>\n      <th>19</th>\n      <td>Public Transportation</td>\n      <td>NaN</td>\n    </tr>\n    <tr>\n      <th>22</th>\n      <td>Doctor</td>\n      <td>NaN</td>\n    </tr>\n    <tr>\n      <th>23</th>\n      <td>Dentist</td>\n      <td>NaN</td>\n    </tr>\n  </tbody>\n</table>\n</div>"
     },
     "metadata": {},
     "execution_count": 22
    }
   ],
   "source": [
    "budget_analysis.sort_values(['amt'], ascending=False)"
   ]
  },
  {
   "cell_type": "code",
   "execution_count": 23,
   "metadata": {},
   "outputs": [],
   "source": [
    "bills = pd.read_csv('bills.csv')\n",
    "bills['recur_date'] = pd.to_datetime(bills['recur_date'])"
   ]
  },
  {
   "cell_type": "code",
   "execution_count": 24,
   "metadata": {},
   "outputs": [
    {
     "output_type": "execute_result",
     "data": {
      "text/plain": [
       "               category           Title recurrence  recur_date\n",
       "0              Paycheck   Paycheck - BK  bi-weekly  2021-01-21\n",
       "1       Mortgage & Rent            Rent    monthly  2021-01-28\n",
       "2              Electric          Ameren    monthly  2021-02-10\n",
       "3           Natural Gas           Spire    monthly  2021-01-19\n",
       "4          Mobile Phone          Sprint    monthly  2021-02-09\n",
       "5              Internet        Spectrum    monthly  2021-01-31\n",
       "6  Motorcycle Insurance       Dairyland     yearly  2021-07-16\n",
       "7                   Gym  FitnessYourWay    monthly  2021-02-16\n",
       "8               Spotify         Spotify    monthly  2021-01-23"
      ],
      "text/html": "<div>\n<style scoped>\n    .dataframe tbody tr th:only-of-type {\n        vertical-align: middle;\n    }\n\n    .dataframe tbody tr th {\n        vertical-align: top;\n    }\n\n    .dataframe thead th {\n        text-align: right;\n    }\n</style>\n<table border=\"1\" class=\"dataframe\">\n  <thead>\n    <tr style=\"text-align: right;\">\n      <th></th>\n      <th>category</th>\n      <th>Title</th>\n      <th>recurrence</th>\n      <th>recur_date</th>\n    </tr>\n  </thead>\n  <tbody>\n    <tr>\n      <th>0</th>\n      <td>Paycheck</td>\n      <td>Paycheck - BK</td>\n      <td>bi-weekly</td>\n      <td>2021-01-21</td>\n    </tr>\n    <tr>\n      <th>1</th>\n      <td>Mortgage &amp; Rent</td>\n      <td>Rent</td>\n      <td>monthly</td>\n      <td>2021-01-28</td>\n    </tr>\n    <tr>\n      <th>2</th>\n      <td>Electric</td>\n      <td>Ameren</td>\n      <td>monthly</td>\n      <td>2021-02-10</td>\n    </tr>\n    <tr>\n      <th>3</th>\n      <td>Natural Gas</td>\n      <td>Spire</td>\n      <td>monthly</td>\n      <td>2021-01-19</td>\n    </tr>\n    <tr>\n      <th>4</th>\n      <td>Mobile Phone</td>\n      <td>Sprint</td>\n      <td>monthly</td>\n      <td>2021-02-09</td>\n    </tr>\n    <tr>\n      <th>5</th>\n      <td>Internet</td>\n      <td>Spectrum</td>\n      <td>monthly</td>\n      <td>2021-01-31</td>\n    </tr>\n    <tr>\n      <th>6</th>\n      <td>Motorcycle Insurance</td>\n      <td>Dairyland</td>\n      <td>yearly</td>\n      <td>2021-07-16</td>\n    </tr>\n    <tr>\n      <th>7</th>\n      <td>Gym</td>\n      <td>FitnessYourWay</td>\n      <td>monthly</td>\n      <td>2021-02-16</td>\n    </tr>\n    <tr>\n      <th>8</th>\n      <td>Spotify</td>\n      <td>Spotify</td>\n      <td>monthly</td>\n      <td>2021-01-23</td>\n    </tr>\n  </tbody>\n</table>\n</div>"
     },
     "metadata": {},
     "execution_count": 24
    }
   ],
   "source": [
    "from dateutil.rrule import rrule, DAILY, WEEKLY, MONTHLY\n",
    "\n",
    "for index, row in bills.iterrows():\n",
    "    recur = bills.loc[index, 'recurrence']\n",
    "    recur_date = bills.loc[index, 'recur_date']\n",
    "    if recur == 'bi-weekly':\n",
    "        temp_schedule = rrule(WEEKLY, dtstart=recur_date, count=52, interval=2)\n",
    "    elif recur == 'monthly':\n",
    "        temp_schedule = rrule(MONTHLY, dtstart=recur_date, count=24, interval=1)\n",
    "    elif recur == 'yearly':\n",
    "        temp_schedule = rrule(MONTHLY, dtstart=recur_date, count=4, interval=12)\n",
    "    else:\n",
    "        sys.exit('Recurrance type not defined')\n",
    "    for each in temp_schedule:\n",
    "        if each.date() >= (datetime.now() - timedelta(days=7)).date():\n",
    "            bills.loc[index, 'recur_date'] = each.date()\n",
    "            break\n",
    "        else:\n",
    "            pass\n",
    "\n",
    "bills    \n",
    "\n"
   ]
  },
  {
   "cell_type": "code",
   "execution_count": 25,
   "metadata": {},
   "outputs": [],
   "source": [
    "bills.to_csv('bills.csv', index=False)"
   ]
  },
  {
   "cell_type": "code",
   "execution_count": 29,
   "metadata": {},
   "outputs": [],
   "source": [
    "last_next_28 = rrule(DAILY, dtstart=(datetime.now() - timedelta(days=7)).date(), count=28, interval=1)\n",
    "last_7_df = pd.DataFrame(columns=['date', 'charges', 'amt'])\n",
    "next_21_df = pd.DataFrame(columns=['date', 'charges', 'amt'])\n",
    "for index, each in enumerate(last_next_28):\n",
    "    if index <= 6:\n",
    "        last_7_df.loc[index, 'date'] = each\n",
    "        last_7_df.loc[index, 'charges'] = '|'\n",
    "        last_7_df.loc[index, 'amt'] = 0\n",
    "    else:\n",
    "        next_21_df.loc[index - 7, 'date'] = each\n",
    "        next_21_df.loc[index - 7, 'charges'] = '|'\n",
    "        next_21_df.loc[index - 7, 'amt'] = 0"
   ]
  },
  {
   "cell_type": "code",
   "execution_count": 30,
   "metadata": {},
   "outputs": [
    {
     "output_type": "execute_result",
     "data": {
      "text/plain": [
       "                  date charges amt\n",
       "0  2021-01-19 00:00:00       |   0\n",
       "1  2021-01-20 00:00:00       |   0\n",
       "2  2021-01-21 00:00:00       |   0\n",
       "3  2021-01-22 00:00:00       |   0\n",
       "4  2021-01-23 00:00:00       |   0\n",
       "5  2021-01-24 00:00:00       |   0\n",
       "6  2021-01-25 00:00:00       |   0"
      ],
      "text/html": "<div>\n<style scoped>\n    .dataframe tbody tr th:only-of-type {\n        vertical-align: middle;\n    }\n\n    .dataframe tbody tr th {\n        vertical-align: top;\n    }\n\n    .dataframe thead th {\n        text-align: right;\n    }\n</style>\n<table border=\"1\" class=\"dataframe\">\n  <thead>\n    <tr style=\"text-align: right;\">\n      <th></th>\n      <th>date</th>\n      <th>charges</th>\n      <th>amt</th>\n    </tr>\n  </thead>\n  <tbody>\n    <tr>\n      <th>0</th>\n      <td>2021-01-19 00:00:00</td>\n      <td>|</td>\n      <td>0</td>\n    </tr>\n    <tr>\n      <th>1</th>\n      <td>2021-01-20 00:00:00</td>\n      <td>|</td>\n      <td>0</td>\n    </tr>\n    <tr>\n      <th>2</th>\n      <td>2021-01-21 00:00:00</td>\n      <td>|</td>\n      <td>0</td>\n    </tr>\n    <tr>\n      <th>3</th>\n      <td>2021-01-22 00:00:00</td>\n      <td>|</td>\n      <td>0</td>\n    </tr>\n    <tr>\n      <th>4</th>\n      <td>2021-01-23 00:00:00</td>\n      <td>|</td>\n      <td>0</td>\n    </tr>\n    <tr>\n      <th>5</th>\n      <td>2021-01-24 00:00:00</td>\n      <td>|</td>\n      <td>0</td>\n    </tr>\n    <tr>\n      <th>6</th>\n      <td>2021-01-25 00:00:00</td>\n      <td>|</td>\n      <td>0</td>\n    </tr>\n  </tbody>\n</table>\n</div>"
     },
     "metadata": {},
     "execution_count": 30
    }
   ],
   "source": [
    "last_7_df"
   ]
  },
  {
   "cell_type": "code",
   "execution_count": 31,
   "metadata": {},
   "outputs": [
    {
     "output_type": "execute_result",
     "data": {
      "text/plain": [
       "                   date charges  amt\n",
       "0   2021-01-26 00:00:00     NaN  NaN\n",
       "7   2021-02-02 00:00:00       |    0\n",
       "1   2021-01-27 00:00:00     NaN  NaN\n",
       "8   2021-02-03 00:00:00       |    0\n",
       "2   2021-01-28 00:00:00     NaN  NaN\n",
       "9   2021-02-04 00:00:00       |    0\n",
       "3   2021-01-29 00:00:00     NaN  NaN\n",
       "10  2021-02-05 00:00:00       |    0\n",
       "4   2021-01-30 00:00:00     NaN  NaN\n",
       "11  2021-02-06 00:00:00       |    0\n",
       "5   2021-01-31 00:00:00     NaN  NaN\n",
       "12  2021-02-07 00:00:00       |    0\n",
       "6   2021-02-01 00:00:00     NaN  NaN\n",
       "13  2021-02-08 00:00:00       |    0\n",
       "14  2021-02-09 00:00:00       |    0\n",
       "15  2021-02-10 00:00:00       |    0\n",
       "16  2021-02-11 00:00:00       |    0\n",
       "17  2021-02-12 00:00:00       |    0\n",
       "18  2021-02-13 00:00:00       |    0\n",
       "19  2021-02-14 00:00:00       |    0\n",
       "20  2021-02-15 00:00:00       |    0\n",
       "21                  NaN       |    0\n",
       "22                  NaN       |    0\n",
       "23                  NaN       |    0\n",
       "24                  NaN       |    0\n",
       "25                  NaN       |    0\n",
       "26                  NaN       |    0\n",
       "27                  NaN       |    0"
      ],
      "text/html": "<div>\n<style scoped>\n    .dataframe tbody tr th:only-of-type {\n        vertical-align: middle;\n    }\n\n    .dataframe tbody tr th {\n        vertical-align: top;\n    }\n\n    .dataframe thead th {\n        text-align: right;\n    }\n</style>\n<table border=\"1\" class=\"dataframe\">\n  <thead>\n    <tr style=\"text-align: right;\">\n      <th></th>\n      <th>date</th>\n      <th>charges</th>\n      <th>amt</th>\n    </tr>\n  </thead>\n  <tbody>\n    <tr>\n      <th>0</th>\n      <td>2021-01-26 00:00:00</td>\n      <td>NaN</td>\n      <td>NaN</td>\n    </tr>\n    <tr>\n      <th>7</th>\n      <td>2021-02-02 00:00:00</td>\n      <td>|</td>\n      <td>0</td>\n    </tr>\n    <tr>\n      <th>1</th>\n      <td>2021-01-27 00:00:00</td>\n      <td>NaN</td>\n      <td>NaN</td>\n    </tr>\n    <tr>\n      <th>8</th>\n      <td>2021-02-03 00:00:00</td>\n      <td>|</td>\n      <td>0</td>\n    </tr>\n    <tr>\n      <th>2</th>\n      <td>2021-01-28 00:00:00</td>\n      <td>NaN</td>\n      <td>NaN</td>\n    </tr>\n    <tr>\n      <th>9</th>\n      <td>2021-02-04 00:00:00</td>\n      <td>|</td>\n      <td>0</td>\n    </tr>\n    <tr>\n      <th>3</th>\n      <td>2021-01-29 00:00:00</td>\n      <td>NaN</td>\n      <td>NaN</td>\n    </tr>\n    <tr>\n      <th>10</th>\n      <td>2021-02-05 00:00:00</td>\n      <td>|</td>\n      <td>0</td>\n    </tr>\n    <tr>\n      <th>4</th>\n      <td>2021-01-30 00:00:00</td>\n      <td>NaN</td>\n      <td>NaN</td>\n    </tr>\n    <tr>\n      <th>11</th>\n      <td>2021-02-06 00:00:00</td>\n      <td>|</td>\n      <td>0</td>\n    </tr>\n    <tr>\n      <th>5</th>\n      <td>2021-01-31 00:00:00</td>\n      <td>NaN</td>\n      <td>NaN</td>\n    </tr>\n    <tr>\n      <th>12</th>\n      <td>2021-02-07 00:00:00</td>\n      <td>|</td>\n      <td>0</td>\n    </tr>\n    <tr>\n      <th>6</th>\n      <td>2021-02-01 00:00:00</td>\n      <td>NaN</td>\n      <td>NaN</td>\n    </tr>\n    <tr>\n      <th>13</th>\n      <td>2021-02-08 00:00:00</td>\n      <td>|</td>\n      <td>0</td>\n    </tr>\n    <tr>\n      <th>14</th>\n      <td>2021-02-09 00:00:00</td>\n      <td>|</td>\n      <td>0</td>\n    </tr>\n    <tr>\n      <th>15</th>\n      <td>2021-02-10 00:00:00</td>\n      <td>|</td>\n      <td>0</td>\n    </tr>\n    <tr>\n      <th>16</th>\n      <td>2021-02-11 00:00:00</td>\n      <td>|</td>\n      <td>0</td>\n    </tr>\n    <tr>\n      <th>17</th>\n      <td>2021-02-12 00:00:00</td>\n      <td>|</td>\n      <td>0</td>\n    </tr>\n    <tr>\n      <th>18</th>\n      <td>2021-02-13 00:00:00</td>\n      <td>|</td>\n      <td>0</td>\n    </tr>\n    <tr>\n      <th>19</th>\n      <td>2021-02-14 00:00:00</td>\n      <td>|</td>\n      <td>0</td>\n    </tr>\n    <tr>\n      <th>20</th>\n      <td>2021-02-15 00:00:00</td>\n      <td>|</td>\n      <td>0</td>\n    </tr>\n    <tr>\n      <th>21</th>\n      <td>NaN</td>\n      <td>|</td>\n      <td>0</td>\n    </tr>\n    <tr>\n      <th>22</th>\n      <td>NaN</td>\n      <td>|</td>\n      <td>0</td>\n    </tr>\n    <tr>\n      <th>23</th>\n      <td>NaN</td>\n      <td>|</td>\n      <td>0</td>\n    </tr>\n    <tr>\n      <th>24</th>\n      <td>NaN</td>\n      <td>|</td>\n      <td>0</td>\n    </tr>\n    <tr>\n      <th>25</th>\n      <td>NaN</td>\n      <td>|</td>\n      <td>0</td>\n    </tr>\n    <tr>\n      <th>26</th>\n      <td>NaN</td>\n      <td>|</td>\n      <td>0</td>\n    </tr>\n    <tr>\n      <th>27</th>\n      <td>NaN</td>\n      <td>|</td>\n      <td>0</td>\n    </tr>\n  </tbody>\n</table>\n</div>"
     },
     "metadata": {},
     "execution_count": 31
    }
   ],
   "source": [
    "next_21_df"
   ]
  },
  {
   "source": [
    "# To-Do's\n",
    "- Remove charges that already happened\n",
    "- Store budget information\n",
    "- Create calendar of how to predict upcoming paychecks\n",
    "- Make list/calendar of upcoming expenses\n",
    "- Calculate remaining budget based off upcoming expenses\n",
    "- Create budget analysis (regression and past month)\n",
    "- Create graphs and visuals\n",
    "- Machine Learning budget"
   ],
   "cell_type": "markdown",
   "metadata": {}
  }
 ]
}