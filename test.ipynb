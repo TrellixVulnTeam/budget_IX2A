{
 "metadata": {
  "language_info": {
   "codemirror_mode": {
    "name": "ipython",
    "version": 3
   },
   "file_extension": ".py",
   "mimetype": "text/x-python",
   "name": "python",
   "nbconvert_exporter": "python",
   "pygments_lexer": "ipython3",
   "version": "3.8.5-final"
  },
  "orig_nbformat": 2,
  "kernelspec": {
   "name": "python3",
   "display_name": "Python 3.8.5 64-bit ('budget': conda)",
   "metadata": {
    "interpreter": {
     "hash": "76ad0f5bc9d8f1a028f98df54606bce9f80382f8cc45d3df6477efabc85c159c"
    }
   }
  }
 },
 "nbformat": 4,
 "nbformat_minor": 2,
 "cells": [
  {
   "cell_type": "code",
   "execution_count": 1,
   "metadata": {},
   "outputs": [],
   "source": [
    "from budget import Budget\n",
    "budget = Budget()"
   ]
  },
  {
   "cell_type": "code",
   "execution_count": 2,
   "metadata": {},
   "outputs": [],
   "source": [
    "budget.generate_bill()"
   ]
  },
  {
   "cell_type": "code",
   "execution_count": 3,
   "metadata": {},
   "outputs": [
    {
     "output_type": "execute_result",
     "data": {
      "text/plain": [
       "               category           Title recurrence recur_date      amt\n",
       "0              Paycheck   Paycheck - BK  bi-weekly 2021-02-04 -2241.21\n",
       "1       Mortgage & Rent            Rent    monthly 2021-01-28  2200.00\n",
       "2              Electric          Ameren    monthly 2021-02-10   100.00\n",
       "3           Natural Gas           Spire    monthly 2021-02-19    60.00\n",
       "4          Mobile Phone          Sprint    monthly 2021-02-09   104.17\n",
       "5              Internet        Spectrum    monthly 2021-01-31    80.00\n",
       "6  Motorcycle Insurance       Dairyland     yearly 2021-07-16   181.65\n",
       "7                   Gym  FitnessYourWay    monthly 2021-02-16    25.00\n",
       "8               Spotify         Spotify    monthly 2021-02-23    10.69"
      ],
      "text/html": "<div>\n<style scoped>\n    .dataframe tbody tr th:only-of-type {\n        vertical-align: middle;\n    }\n\n    .dataframe tbody tr th {\n        vertical-align: top;\n    }\n\n    .dataframe thead th {\n        text-align: right;\n    }\n</style>\n<table border=\"1\" class=\"dataframe\">\n  <thead>\n    <tr style=\"text-align: right;\">\n      <th></th>\n      <th>category</th>\n      <th>Title</th>\n      <th>recurrence</th>\n      <th>recur_date</th>\n      <th>amt</th>\n    </tr>\n  </thead>\n  <tbody>\n    <tr>\n      <th>0</th>\n      <td>Paycheck</td>\n      <td>Paycheck - BK</td>\n      <td>bi-weekly</td>\n      <td>2021-02-04</td>\n      <td>-2241.21</td>\n    </tr>\n    <tr>\n      <th>1</th>\n      <td>Mortgage &amp; Rent</td>\n      <td>Rent</td>\n      <td>monthly</td>\n      <td>2021-01-28</td>\n      <td>2200.00</td>\n    </tr>\n    <tr>\n      <th>2</th>\n      <td>Electric</td>\n      <td>Ameren</td>\n      <td>monthly</td>\n      <td>2021-02-10</td>\n      <td>100.00</td>\n    </tr>\n    <tr>\n      <th>3</th>\n      <td>Natural Gas</td>\n      <td>Spire</td>\n      <td>monthly</td>\n      <td>2021-02-19</td>\n      <td>60.00</td>\n    </tr>\n    <tr>\n      <th>4</th>\n      <td>Mobile Phone</td>\n      <td>Sprint</td>\n      <td>monthly</td>\n      <td>2021-02-09</td>\n      <td>104.17</td>\n    </tr>\n    <tr>\n      <th>5</th>\n      <td>Internet</td>\n      <td>Spectrum</td>\n      <td>monthly</td>\n      <td>2021-01-31</td>\n      <td>80.00</td>\n    </tr>\n    <tr>\n      <th>6</th>\n      <td>Motorcycle Insurance</td>\n      <td>Dairyland</td>\n      <td>yearly</td>\n      <td>2021-07-16</td>\n      <td>181.65</td>\n    </tr>\n    <tr>\n      <th>7</th>\n      <td>Gym</td>\n      <td>FitnessYourWay</td>\n      <td>monthly</td>\n      <td>2021-02-16</td>\n      <td>25.00</td>\n    </tr>\n    <tr>\n      <th>8</th>\n      <td>Spotify</td>\n      <td>Spotify</td>\n      <td>monthly</td>\n      <td>2021-02-23</td>\n      <td>10.69</td>\n    </tr>\n  </tbody>\n</table>\n</div>"
     },
     "metadata": {},
     "execution_count": 3
    }
   ],
   "source": [
    "budget.bills"
   ]
  },
  {
   "cell_type": "code",
   "execution_count": 7,
   "metadata": {},
   "outputs": [
    {
     "output_type": "execute_result",
     "data": {
      "text/plain": [
       "        date    charges     amt\n",
       "0 2021-01-24          |       0\n",
       "1 2021-01-25          |       0\n",
       "2 2021-01-26          |       0\n",
       "3 2021-01-27          |       0\n",
       "4 2021-01-28  | Rent |   2200.0\n",
       "5 2021-01-29          |       0\n",
       "6 2021-01-30          |       0"
      ],
      "text/html": "<div>\n<style scoped>\n    .dataframe tbody tr th:only-of-type {\n        vertical-align: middle;\n    }\n\n    .dataframe tbody tr th {\n        vertical-align: top;\n    }\n\n    .dataframe thead th {\n        text-align: right;\n    }\n</style>\n<table border=\"1\" class=\"dataframe\">\n  <thead>\n    <tr style=\"text-align: right;\">\n      <th></th>\n      <th>date</th>\n      <th>charges</th>\n      <th>amt</th>\n    </tr>\n  </thead>\n  <tbody>\n    <tr>\n      <th>0</th>\n      <td>2021-01-24</td>\n      <td>|</td>\n      <td>0</td>\n    </tr>\n    <tr>\n      <th>1</th>\n      <td>2021-01-25</td>\n      <td>|</td>\n      <td>0</td>\n    </tr>\n    <tr>\n      <th>2</th>\n      <td>2021-01-26</td>\n      <td>|</td>\n      <td>0</td>\n    </tr>\n    <tr>\n      <th>3</th>\n      <td>2021-01-27</td>\n      <td>|</td>\n      <td>0</td>\n    </tr>\n    <tr>\n      <th>4</th>\n      <td>2021-01-28</td>\n      <td>| Rent |</td>\n      <td>2200.0</td>\n    </tr>\n    <tr>\n      <th>5</th>\n      <td>2021-01-29</td>\n      <td>|</td>\n      <td>0</td>\n    </tr>\n    <tr>\n      <th>6</th>\n      <td>2021-01-30</td>\n      <td>|</td>\n      <td>0</td>\n    </tr>\n  </tbody>\n</table>\n</div>"
     },
     "metadata": {},
     "execution_count": 7
    }
   ],
   "source": [
    "budget.last_7_df"
   ]
  },
  {
   "cell_type": "code",
   "execution_count": 6,
   "metadata": {},
   "outputs": [
    {
     "output_type": "execute_result",
     "data": {
      "text/plain": [
       "         date                                            charges      amt\n",
       "7  2021-01-31      | Rent |  Spectrum |  Dairyland |  Spotify |   2472.34\n",
       "8  2021-02-01                  | Rent |  Dairyland |  Spotify |   2392.34\n",
       "9  2021-02-02                  | Rent |  Dairyland |  Spotify |   2392.34\n",
       "10 2021-02-03                  | Rent |  Dairyland |  Spotify |   2392.34\n",
       "11 2021-02-04  | Paycheck - BK |  Rent |  Dairyland |  Spotif...   151.13\n",
       "12 2021-02-05                  | Rent |  Dairyland |  Spotify |   2392.34\n",
       "13 2021-02-06                  | Rent |  Dairyland |  Spotify |   2392.34\n",
       "14 2021-02-07                  | Rent |  Dairyland |  Spotify |   2392.34\n",
       "15 2021-02-08                  | Rent |  Dairyland |  Spotify |   2392.34\n",
       "16 2021-02-09        | Rent |  Sprint |  Dairyland |  Spotify |   2496.51\n",
       "17 2021-02-10        | Rent |  Ameren |  Dairyland |  Spotify |   2492.34\n",
       "18 2021-02-11                  | Rent |  Dairyland |  Spotify |   2392.34\n",
       "19 2021-02-12                  | Rent |  Dairyland |  Spotify |   2392.34\n",
       "20 2021-02-13                  | Rent |  Dairyland |  Spotify |   2392.34\n",
       "21 2021-02-14                  | Rent |  Dairyland |  Spotify |   2392.34\n",
       "22 2021-02-15                  | Rent |  Dairyland |  Spotify |   2392.34\n",
       "23 2021-02-16  | Rent |  Dairyland |  FitnessYourWay |  Spoti...  2417.34\n",
       "24 2021-02-17                  | Rent |  Dairyland |  Spotify |   2392.34\n",
       "25 2021-02-18                  | Rent |  Dairyland |  Spotify |   2392.34\n",
       "26 2021-02-19         | Rent |  Spire |  Dairyland |  Spotify |   2452.34\n",
       "27 2021-02-20                  | Rent |  Dairyland |  Spotify |   2392.34"
      ],
      "text/html": "<div>\n<style scoped>\n    .dataframe tbody tr th:only-of-type {\n        vertical-align: middle;\n    }\n\n    .dataframe tbody tr th {\n        vertical-align: top;\n    }\n\n    .dataframe thead th {\n        text-align: right;\n    }\n</style>\n<table border=\"1\" class=\"dataframe\">\n  <thead>\n    <tr style=\"text-align: right;\">\n      <th></th>\n      <th>date</th>\n      <th>charges</th>\n      <th>amt</th>\n    </tr>\n  </thead>\n  <tbody>\n    <tr>\n      <th>7</th>\n      <td>2021-01-31</td>\n      <td>| Rent |  Spectrum |  Dairyland |  Spotify |</td>\n      <td>2472.34</td>\n    </tr>\n    <tr>\n      <th>8</th>\n      <td>2021-02-01</td>\n      <td>| Rent |  Dairyland |  Spotify |</td>\n      <td>2392.34</td>\n    </tr>\n    <tr>\n      <th>9</th>\n      <td>2021-02-02</td>\n      <td>| Rent |  Dairyland |  Spotify |</td>\n      <td>2392.34</td>\n    </tr>\n    <tr>\n      <th>10</th>\n      <td>2021-02-03</td>\n      <td>| Rent |  Dairyland |  Spotify |</td>\n      <td>2392.34</td>\n    </tr>\n    <tr>\n      <th>11</th>\n      <td>2021-02-04</td>\n      <td>| Paycheck - BK |  Rent |  Dairyland |  Spotif...</td>\n      <td>151.13</td>\n    </tr>\n    <tr>\n      <th>12</th>\n      <td>2021-02-05</td>\n      <td>| Rent |  Dairyland |  Spotify |</td>\n      <td>2392.34</td>\n    </tr>\n    <tr>\n      <th>13</th>\n      <td>2021-02-06</td>\n      <td>| Rent |  Dairyland |  Spotify |</td>\n      <td>2392.34</td>\n    </tr>\n    <tr>\n      <th>14</th>\n      <td>2021-02-07</td>\n      <td>| Rent |  Dairyland |  Spotify |</td>\n      <td>2392.34</td>\n    </tr>\n    <tr>\n      <th>15</th>\n      <td>2021-02-08</td>\n      <td>| Rent |  Dairyland |  Spotify |</td>\n      <td>2392.34</td>\n    </tr>\n    <tr>\n      <th>16</th>\n      <td>2021-02-09</td>\n      <td>| Rent |  Sprint |  Dairyland |  Spotify |</td>\n      <td>2496.51</td>\n    </tr>\n    <tr>\n      <th>17</th>\n      <td>2021-02-10</td>\n      <td>| Rent |  Ameren |  Dairyland |  Spotify |</td>\n      <td>2492.34</td>\n    </tr>\n    <tr>\n      <th>18</th>\n      <td>2021-02-11</td>\n      <td>| Rent |  Dairyland |  Spotify |</td>\n      <td>2392.34</td>\n    </tr>\n    <tr>\n      <th>19</th>\n      <td>2021-02-12</td>\n      <td>| Rent |  Dairyland |  Spotify |</td>\n      <td>2392.34</td>\n    </tr>\n    <tr>\n      <th>20</th>\n      <td>2021-02-13</td>\n      <td>| Rent |  Dairyland |  Spotify |</td>\n      <td>2392.34</td>\n    </tr>\n    <tr>\n      <th>21</th>\n      <td>2021-02-14</td>\n      <td>| Rent |  Dairyland |  Spotify |</td>\n      <td>2392.34</td>\n    </tr>\n    <tr>\n      <th>22</th>\n      <td>2021-02-15</td>\n      <td>| Rent |  Dairyland |  Spotify |</td>\n      <td>2392.34</td>\n    </tr>\n    <tr>\n      <th>23</th>\n      <td>2021-02-16</td>\n      <td>| Rent |  Dairyland |  FitnessYourWay |  Spoti...</td>\n      <td>2417.34</td>\n    </tr>\n    <tr>\n      <th>24</th>\n      <td>2021-02-17</td>\n      <td>| Rent |  Dairyland |  Spotify |</td>\n      <td>2392.34</td>\n    </tr>\n    <tr>\n      <th>25</th>\n      <td>2021-02-18</td>\n      <td>| Rent |  Dairyland |  Spotify |</td>\n      <td>2392.34</td>\n    </tr>\n    <tr>\n      <th>26</th>\n      <td>2021-02-19</td>\n      <td>| Rent |  Spire |  Dairyland |  Spotify |</td>\n      <td>2452.34</td>\n    </tr>\n    <tr>\n      <th>27</th>\n      <td>2021-02-20</td>\n      <td>| Rent |  Dairyland |  Spotify |</td>\n      <td>2392.34</td>\n    </tr>\n  </tbody>\n</table>\n</div>"
     },
     "metadata": {},
     "execution_count": 6
    }
   ],
   "source": [
    "budget.next_21_df"
   ]
  },
  {
   "source": [
    "# To-Do's\n",
    "- Remove charges that already happened\n",
    "- Store budget information\n",
    "- Create calendar of how to predict upcoming paychecks\n",
    "- Make list/calendar of upcoming expenses\n",
    "- Calculate remaining budget based off upcoming expenses\n",
    "- Create budget analysis (regression and past month)\n",
    "- Create graphs and visuals\n",
    "- Machine Learning budget"
   ],
   "cell_type": "markdown",
   "metadata": {}
  }
 ]
}