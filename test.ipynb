{
 "metadata": {
  "language_info": {
   "codemirror_mode": {
    "name": "ipython",
    "version": 3
   },
   "file_extension": ".py",
   "mimetype": "text/x-python",
   "name": "python",
   "nbconvert_exporter": "python",
   "pygments_lexer": "ipython3",
   "version": "3.9.1-final"
  },
  "orig_nbformat": 2,
  "kernelspec": {
   "name": "python3",
   "display_name": "Python 3.9.1 64-bit ('budget': conda)",
   "metadata": {
    "interpreter": {
     "hash": "76ad0f5bc9d8f1a028f98df54606bce9f80382f8cc45d3df6477efabc85c159c"
    }
   }
  }
 },
 "nbformat": 4,
 "nbformat_minor": 2,
 "cells": [
  {
   "cell_type": "code",
   "execution_count": 1,
   "metadata": {},
   "outputs": [],
   "source": [
    "from datetime import datetime\n",
    "from fractions import Fraction\n",
    "\n",
    "import configparser\n",
    "import pandas as pd"
   ]
  },
  {
   "cell_type": "code",
   "execution_count": 2,
   "metadata": {},
   "outputs": [],
   "source": [
    "config = configparser.ConfigParser()\n",
    "config.read('config.ini')\n",
    "last_paid = datetime.strptime(config['DEFAULT']['last_paid'], '%Y-%m-%d')\n",
    "mint_analysis = datetime.strptime(config['DEFAULT']['mint_analysis'], '%Y-%m-%d')"
   ]
  },
  {
   "cell_type": "code",
   "execution_count": 3,
   "metadata": {},
   "outputs": [],
   "source": [
    "chase = pd.read_csv('ChaseCC.csv')\n",
    "citi = pd.read_csv('CitiCC.csv')\n",
    "mint = pd.read_csv('Mint.csv')"
   ]
  },
  {
   "cell_type": "code",
   "execution_count": 4,
   "metadata": {},
   "outputs": [],
   "source": [
    "chase['trans_date'] = pd.to_datetime(chase['Transaction Date'])\n",
    "citi['trans_date'] = pd.to_datetime(citi['Date'])\n",
    "mint['trans_date'] = pd.to_datetime(mint['Date'])"
   ]
  },
  {
   "cell_type": "code",
   "execution_count": 5,
   "metadata": {},
   "outputs": [],
   "source": [
    "chase = chase[chase['trans_date'] > last_paid]\n",
    "chase = chase[chase['Type'] != 'Payment']\n",
    "citi = citi[citi['trans_date'] > last_paid]\n",
    "citi = citi[~citi['Description'].str.contains('PAYMENT, THANK YOU')]\n",
    "mint = mint[mint['trans_date'] > mint_analysis]"
   ]
  },
  {
   "cell_type": "code",
   "execution_count": 6,
   "metadata": {},
   "outputs": [],
   "source": [
    "chase['amt'] = chase['Amount'] * -1"
   ]
  },
  {
   "cell_type": "code",
   "execution_count": 7,
   "metadata": {},
   "outputs": [],
   "source": [
    "citi.loc[(citi['Debit'].notnull()), 'amt'] = citi['Debit']\n",
    "citi.loc[(citi['Credit'].notnull()), 'amt'] = citi['Credit']"
   ]
  },
  {
   "cell_type": "code",
   "execution_count": 8,
   "metadata": {},
   "outputs": [],
   "source": [
    "mint.loc[(mint['Transaction Type'] == 'debit'), 'amt'] = mint['Amount']\n",
    "mint.loc[(mint['Transaction Type'] == 'credit'), 'amt'] = mint['Amount'] * -1"
   ]
  },
  {
   "cell_type": "code",
   "execution_count": 9,
   "metadata": {},
   "outputs": [],
   "source": [
    "chase = chase[['trans_date', 'amt', 'Description']]\n",
    "citi = citi[['trans_date', 'amt', 'Description']]\n",
    "mint = mint[['trans_date', 'amt', 'Category', 'Description', 'Original Description']]"
   ]
  },
  {
   "cell_type": "code",
   "execution_count": 10,
   "metadata": {},
   "outputs": [
    {
     "output_type": "execute_result",
     "data": {
      "text/plain": [
       "  trans_date     amt         Description\n",
       "0 2020-12-21   47.69         UBER   EATS\n",
       "1 2020-12-16   25.00  TVY*FITNESSYOURWAY\n",
       "2 2020-12-14   32.66         UBER   EATS\n",
       "3 2020-12-13   42.77         UBER   EATS\n",
       "4 2020-12-10  114.54    SPRINT *WIRELESS"
      ],
      "text/html": "<div>\n<style scoped>\n    .dataframe tbody tr th:only-of-type {\n        vertical-align: middle;\n    }\n\n    .dataframe tbody tr th {\n        vertical-align: top;\n    }\n\n    .dataframe thead th {\n        text-align: right;\n    }\n</style>\n<table border=\"1\" class=\"dataframe\">\n  <thead>\n    <tr style=\"text-align: right;\">\n      <th></th>\n      <th>trans_date</th>\n      <th>amt</th>\n      <th>Description</th>\n    </tr>\n  </thead>\n  <tbody>\n    <tr>\n      <th>0</th>\n      <td>2020-12-21</td>\n      <td>47.69</td>\n      <td>UBER   EATS</td>\n    </tr>\n    <tr>\n      <th>1</th>\n      <td>2020-12-16</td>\n      <td>25.00</td>\n      <td>TVY*FITNESSYOURWAY</td>\n    </tr>\n    <tr>\n      <th>2</th>\n      <td>2020-12-14</td>\n      <td>32.66</td>\n      <td>UBER   EATS</td>\n    </tr>\n    <tr>\n      <th>3</th>\n      <td>2020-12-13</td>\n      <td>42.77</td>\n      <td>UBER   EATS</td>\n    </tr>\n    <tr>\n      <th>4</th>\n      <td>2020-12-10</td>\n      <td>114.54</td>\n      <td>SPRINT *WIRELESS</td>\n    </tr>\n  </tbody>\n</table>\n</div>"
     },
     "metadata": {},
     "execution_count": 10
    }
   ],
   "source": [
    "chase.head(5)"
   ]
  },
  {
   "cell_type": "code",
   "execution_count": 11,
   "metadata": {},
   "outputs": [
    {
     "output_type": "execute_result",
     "data": {
      "text/plain": [
       "  trans_date     amt                                        Description\n",
       "0 2020-12-24 -449.99  PAYPAL *B H PHOTO 4029357733 NY Digital Accoun...\n",
       "1 2020-12-24    6.36                PAYPAL *AMAGICOM AB 35314369001 SWE\n",
       "2 2020-12-22  115.62                 TRADER JOE'S #692 QPS BRENTWOOD MO\n",
       "3 2020-12-21   10.69  PAYPAL *SPOTIFYUSAI 4029357733 NY Digital Acco...\n",
       "4 2020-12-19  126.14               Amazon Prime*YG8V21593 8665572820 WA"
      ],
      "text/html": "<div>\n<style scoped>\n    .dataframe tbody tr th:only-of-type {\n        vertical-align: middle;\n    }\n\n    .dataframe tbody tr th {\n        vertical-align: top;\n    }\n\n    .dataframe thead th {\n        text-align: right;\n    }\n</style>\n<table border=\"1\" class=\"dataframe\">\n  <thead>\n    <tr style=\"text-align: right;\">\n      <th></th>\n      <th>trans_date</th>\n      <th>amt</th>\n      <th>Description</th>\n    </tr>\n  </thead>\n  <tbody>\n    <tr>\n      <th>0</th>\n      <td>2020-12-24</td>\n      <td>-449.99</td>\n      <td>PAYPAL *B H PHOTO 4029357733 NY Digital Accoun...</td>\n    </tr>\n    <tr>\n      <th>1</th>\n      <td>2020-12-24</td>\n      <td>6.36</td>\n      <td>PAYPAL *AMAGICOM AB 35314369001 SWE</td>\n    </tr>\n    <tr>\n      <th>2</th>\n      <td>2020-12-22</td>\n      <td>115.62</td>\n      <td>TRADER JOE'S #692 QPS BRENTWOOD MO</td>\n    </tr>\n    <tr>\n      <th>3</th>\n      <td>2020-12-21</td>\n      <td>10.69</td>\n      <td>PAYPAL *SPOTIFYUSAI 4029357733 NY Digital Acco...</td>\n    </tr>\n    <tr>\n      <th>4</th>\n      <td>2020-12-19</td>\n      <td>126.14</td>\n      <td>Amazon Prime*YG8V21593 8665572820 WA</td>\n    </tr>\n  </tbody>\n</table>\n</div>"
     },
     "metadata": {},
     "execution_count": 11
    }
   ],
   "source": [
    "citi.head(5)"
   ]
  },
  {
   "cell_type": "code",
   "execution_count": 12,
   "metadata": {},
   "outputs": [
    {
     "output_type": "execute_result",
     "data": {
      "text/plain": [
       "  trans_date      amt             Category       Description  \\\n",
       "0 2020-12-28   115.24            Groceries      Trader Joe's   \n",
       "1 2020-12-28   262.66  Credit Card Payment  CHASE CREDIT CRD   \n",
       "2 2020-12-28  1550.96  Credit Card Payment  CITI CARD ONLINE   \n",
       "3 2020-12-27    12.48          Restaurants         Uber Eats   \n",
       "4 2020-12-27    32.68          Restaurants          Uber.com   \n",
       "\n",
       "              Original Description  \n",
       "0  TRADER JOE'S # 692 BRENTWOOD MO  \n",
       "1       ACH DEBIT CHASE CREDIT CRD  \n",
       "2       ACH DEBIT CITI CARD ONLINE  \n",
       "3                     UBER   *EATS  \n",
       "4            UBER   * EATS PENDING  "
      ],
      "text/html": "<div>\n<style scoped>\n    .dataframe tbody tr th:only-of-type {\n        vertical-align: middle;\n    }\n\n    .dataframe tbody tr th {\n        vertical-align: top;\n    }\n\n    .dataframe thead th {\n        text-align: right;\n    }\n</style>\n<table border=\"1\" class=\"dataframe\">\n  <thead>\n    <tr style=\"text-align: right;\">\n      <th></th>\n      <th>trans_date</th>\n      <th>amt</th>\n      <th>Category</th>\n      <th>Description</th>\n      <th>Original Description</th>\n    </tr>\n  </thead>\n  <tbody>\n    <tr>\n      <th>0</th>\n      <td>2020-12-28</td>\n      <td>115.24</td>\n      <td>Groceries</td>\n      <td>Trader Joe's</td>\n      <td>TRADER JOE'S # 692 BRENTWOOD MO</td>\n    </tr>\n    <tr>\n      <th>1</th>\n      <td>2020-12-28</td>\n      <td>262.66</td>\n      <td>Credit Card Payment</td>\n      <td>CHASE CREDIT CRD</td>\n      <td>ACH DEBIT CHASE CREDIT CRD</td>\n    </tr>\n    <tr>\n      <th>2</th>\n      <td>2020-12-28</td>\n      <td>1550.96</td>\n      <td>Credit Card Payment</td>\n      <td>CITI CARD ONLINE</td>\n      <td>ACH DEBIT CITI CARD ONLINE</td>\n    </tr>\n    <tr>\n      <th>3</th>\n      <td>2020-12-27</td>\n      <td>12.48</td>\n      <td>Restaurants</td>\n      <td>Uber Eats</td>\n      <td>UBER   *EATS</td>\n    </tr>\n    <tr>\n      <th>4</th>\n      <td>2020-12-27</td>\n      <td>32.68</td>\n      <td>Restaurants</td>\n      <td>Uber.com</td>\n      <td>UBER   * EATS PENDING</td>\n    </tr>\n  </tbody>\n</table>\n</div>"
     },
     "metadata": {},
     "execution_count": 12
    }
   ],
   "source": [
    "mint.head(5)"
   ]
  },
  {
   "cell_type": "code",
   "execution_count": 13,
   "metadata": {},
   "outputs": [
    {
     "output_type": "execute_result",
     "data": {
      "text/plain": [
       "1492.11"
      ]
     },
     "metadata": {},
     "execution_count": 13
    }
   ],
   "source": [
    "round(citi['amt'].sum(),2)"
   ]
  },
  {
   "cell_type": "code",
   "execution_count": 14,
   "metadata": {},
   "outputs": [
    {
     "output_type": "execute_result",
     "data": {
      "text/plain": [
       "4855.95"
      ]
     },
     "metadata": {},
     "execution_count": 14
    }
   ],
   "source": [
    "income_bk = round(float(config['BUDGET']['income_bk_raw']) * float(Fraction(config['BUDGET']['income_bk_mult'])),2)\r\n",
    "income_bk"
   ]
  },
  {
   "cell_type": "code",
   "execution_count": 15,
   "metadata": {},
   "outputs": [
    {
     "output_type": "execute_result",
     "data": {
      "text/plain": [
       "   sort1  sort2  sort3         category sub_group   group  show_cat  show_sub  \\\n",
       "0      1      0      0           Income    Income  Income     False      True   \n",
       "1      1      1      1         Paycheck    Income  Income      True      True   \n",
       "2      1      1      2            Bonus    Income  Income     False      True   \n",
       "3      1      1      3  Interest Income    Income  Income     False      True   \n",
       "4      1      1      4    Rental Income    Income  Income     False      True   \n",
       "\n",
       "   show_group recurrence recur_date necessity  \n",
       "0        True        NaN        NaT    Ignore  \n",
       "1        True  bi-weekly 2021-01-07    Ignore  \n",
       "2        True        NaN        NaT    Ignore  \n",
       "3        True        NaN        NaT    Ignore  \n",
       "4        True        NaN        NaT    Ignore  "
      ],
      "text/html": "<div>\n<style scoped>\n    .dataframe tbody tr th:only-of-type {\n        vertical-align: middle;\n    }\n\n    .dataframe tbody tr th {\n        vertical-align: top;\n    }\n\n    .dataframe thead th {\n        text-align: right;\n    }\n</style>\n<table border=\"1\" class=\"dataframe\">\n  <thead>\n    <tr style=\"text-align: right;\">\n      <th></th>\n      <th>sort1</th>\n      <th>sort2</th>\n      <th>sort3</th>\n      <th>category</th>\n      <th>sub_group</th>\n      <th>group</th>\n      <th>show_cat</th>\n      <th>show_sub</th>\n      <th>show_group</th>\n      <th>recurrence</th>\n      <th>recur_date</th>\n      <th>necessity</th>\n    </tr>\n  </thead>\n  <tbody>\n    <tr>\n      <th>0</th>\n      <td>1</td>\n      <td>0</td>\n      <td>0</td>\n      <td>Income</td>\n      <td>Income</td>\n      <td>Income</td>\n      <td>False</td>\n      <td>True</td>\n      <td>True</td>\n      <td>NaN</td>\n      <td>NaT</td>\n      <td>Ignore</td>\n    </tr>\n    <tr>\n      <th>1</th>\n      <td>1</td>\n      <td>1</td>\n      <td>1</td>\n      <td>Paycheck</td>\n      <td>Income</td>\n      <td>Income</td>\n      <td>True</td>\n      <td>True</td>\n      <td>True</td>\n      <td>bi-weekly</td>\n      <td>2021-01-07</td>\n      <td>Ignore</td>\n    </tr>\n    <tr>\n      <th>2</th>\n      <td>1</td>\n      <td>1</td>\n      <td>2</td>\n      <td>Bonus</td>\n      <td>Income</td>\n      <td>Income</td>\n      <td>False</td>\n      <td>True</td>\n      <td>True</td>\n      <td>NaN</td>\n      <td>NaT</td>\n      <td>Ignore</td>\n    </tr>\n    <tr>\n      <th>3</th>\n      <td>1</td>\n      <td>1</td>\n      <td>3</td>\n      <td>Interest Income</td>\n      <td>Income</td>\n      <td>Income</td>\n      <td>False</td>\n      <td>True</td>\n      <td>True</td>\n      <td>NaN</td>\n      <td>NaT</td>\n      <td>Ignore</td>\n    </tr>\n    <tr>\n      <th>4</th>\n      <td>1</td>\n      <td>1</td>\n      <td>4</td>\n      <td>Rental Income</td>\n      <td>Income</td>\n      <td>Income</td>\n      <td>False</td>\n      <td>True</td>\n      <td>True</td>\n      <td>NaN</td>\n      <td>NaT</td>\n      <td>Ignore</td>\n    </tr>\n  </tbody>\n</table>\n</div>"
     },
     "metadata": {},
     "execution_count": 15
    }
   ],
   "source": [
    "categories = pd.read_excel('budget_categories.xlsx', sheet_name='main', engine='openpyxl')\n",
    "categories.sort_values(by=['sort1', 'sort2', 'sort3'], inplace=True)\n",
    "categories.reset_index(drop=True, inplace=True)\n",
    "categories.head(5)"
   ]
  },
  {
   "cell_type": "code",
   "execution_count": 16,
   "metadata": {},
   "outputs": [
    {
     "output_type": "execute_result",
     "data": {
      "text/plain": [
       "                         amt\n",
       "Category                    \n",
       "ATM Fee                18.50\n",
       "Air Travel             59.65\n",
       "Alcohol & Bars       1999.75\n",
       "Auto Insurance        362.66\n",
       "Credit Card Payment -3969.78"
      ],
      "text/html": "<div>\n<style scoped>\n    .dataframe tbody tr th:only-of-type {\n        vertical-align: middle;\n    }\n\n    .dataframe tbody tr th {\n        vertical-align: top;\n    }\n\n    .dataframe thead th {\n        text-align: right;\n    }\n</style>\n<table border=\"1\" class=\"dataframe\">\n  <thead>\n    <tr style=\"text-align: right;\">\n      <th></th>\n      <th>amt</th>\n    </tr>\n    <tr>\n      <th>Category</th>\n      <th></th>\n    </tr>\n  </thead>\n  <tbody>\n    <tr>\n      <th>ATM Fee</th>\n      <td>18.50</td>\n    </tr>\n    <tr>\n      <th>Air Travel</th>\n      <td>59.65</td>\n    </tr>\n    <tr>\n      <th>Alcohol &amp; Bars</th>\n      <td>1999.75</td>\n    </tr>\n    <tr>\n      <th>Auto Insurance</th>\n      <td>362.66</td>\n    </tr>\n    <tr>\n      <th>Credit Card Payment</th>\n      <td>-3969.78</td>\n    </tr>\n  </tbody>\n</table>\n</div>"
     },
     "metadata": {},
     "execution_count": 16
    }
   ],
   "source": [
    "mint = mint.groupby(by=['Category']).sum()\n",
    "mint.head(5)"
   ]
  },
  {
   "cell_type": "code",
   "execution_count": 17,
   "metadata": {},
   "outputs": [
    {
     "output_type": "execute_result",
     "data": {
      "text/plain": [
       "   sort1  sort2  sort3         category sub_group   group  show_cat  show_sub  \\\n",
       "0      1      0      0           Income    Income  Income     False      True   \n",
       "1      1      1      1         Paycheck    Income  Income      True      True   \n",
       "2      1      1      2            Bonus    Income  Income     False      True   \n",
       "3      1      1      3  Interest Income    Income  Income     False      True   \n",
       "4      1      1      4    Rental Income    Income  Income     False      True   \n",
       "\n",
       "   show_group recurrence recur_date necessity       amt  \n",
       "0        True        NaN        NaT    Ignore   -296.08  \n",
       "1        True  bi-weekly 2021-01-07    Ignore -98589.79  \n",
       "2        True        NaN        NaT    Ignore       NaN  \n",
       "3        True        NaN        NaT    Ignore  -1301.52  \n",
       "4        True        NaN        NaT    Ignore       NaN  "
      ],
      "text/html": "<div>\n<style scoped>\n    .dataframe tbody tr th:only-of-type {\n        vertical-align: middle;\n    }\n\n    .dataframe tbody tr th {\n        vertical-align: top;\n    }\n\n    .dataframe thead th {\n        text-align: right;\n    }\n</style>\n<table border=\"1\" class=\"dataframe\">\n  <thead>\n    <tr style=\"text-align: right;\">\n      <th></th>\n      <th>sort1</th>\n      <th>sort2</th>\n      <th>sort3</th>\n      <th>category</th>\n      <th>sub_group</th>\n      <th>group</th>\n      <th>show_cat</th>\n      <th>show_sub</th>\n      <th>show_group</th>\n      <th>recurrence</th>\n      <th>recur_date</th>\n      <th>necessity</th>\n      <th>amt</th>\n    </tr>\n  </thead>\n  <tbody>\n    <tr>\n      <th>0</th>\n      <td>1</td>\n      <td>0</td>\n      <td>0</td>\n      <td>Income</td>\n      <td>Income</td>\n      <td>Income</td>\n      <td>False</td>\n      <td>True</td>\n      <td>True</td>\n      <td>NaN</td>\n      <td>NaT</td>\n      <td>Ignore</td>\n      <td>-296.08</td>\n    </tr>\n    <tr>\n      <th>1</th>\n      <td>1</td>\n      <td>1</td>\n      <td>1</td>\n      <td>Paycheck</td>\n      <td>Income</td>\n      <td>Income</td>\n      <td>True</td>\n      <td>True</td>\n      <td>True</td>\n      <td>bi-weekly</td>\n      <td>2021-01-07</td>\n      <td>Ignore</td>\n      <td>-98589.79</td>\n    </tr>\n    <tr>\n      <th>2</th>\n      <td>1</td>\n      <td>1</td>\n      <td>2</td>\n      <td>Bonus</td>\n      <td>Income</td>\n      <td>Income</td>\n      <td>False</td>\n      <td>True</td>\n      <td>True</td>\n      <td>NaN</td>\n      <td>NaT</td>\n      <td>Ignore</td>\n      <td>NaN</td>\n    </tr>\n    <tr>\n      <th>3</th>\n      <td>1</td>\n      <td>1</td>\n      <td>3</td>\n      <td>Interest Income</td>\n      <td>Income</td>\n      <td>Income</td>\n      <td>False</td>\n      <td>True</td>\n      <td>True</td>\n      <td>NaN</td>\n      <td>NaT</td>\n      <td>Ignore</td>\n      <td>-1301.52</td>\n    </tr>\n    <tr>\n      <th>4</th>\n      <td>1</td>\n      <td>1</td>\n      <td>4</td>\n      <td>Rental Income</td>\n      <td>Income</td>\n      <td>Income</td>\n      <td>False</td>\n      <td>True</td>\n      <td>True</td>\n      <td>NaN</td>\n      <td>NaT</td>\n      <td>Ignore</td>\n      <td>NaN</td>\n    </tr>\n  </tbody>\n</table>\n</div>"
     },
     "metadata": {},
     "execution_count": 17
    }
   ],
   "source": [
    "budget_temp = categories.merge(mint, how='left', left_on='category', right_on='Category')\n",
    "budget_temp.head(5)"
   ]
  },
  {
   "cell_type": "code",
   "execution_count": 18,
   "metadata": {},
   "outputs": [],
   "source": [
    "months_mint = ((datetime.today() - mint_analysis).days)/(365.25/12)\n",
    "budget_temp['amt'] = round(budget_temp['amt']/months_mint,2)"
   ]
  },
  {
   "cell_type": "code",
   "execution_count": 19,
   "metadata": {},
   "outputs": [
    {
     "output_type": "execute_result",
     "data": {
      "text/plain": [
       "   sort1  sort2  sort3         category sub_group   group  show_cat  show_sub  \\\n",
       "0      1      0      0           Income    Income  Income     False      True   \n",
       "1      1      1      1         Paycheck    Income  Income      True      True   \n",
       "2      1      1      2            Bonus    Income  Income     False      True   \n",
       "3      1      1      3  Interest Income    Income  Income     False      True   \n",
       "4      1      1      4    Rental Income    Income  Income     False      True   \n",
       "\n",
       "   show_group recurrence recur_date necessity      amt     amt2     amt3  \n",
       "0        True        NaN        NaT    Ignore   -12.35 -4177.34 -4177.34  \n",
       "1        True  bi-weekly 2021-01-07    Ignore -4110.72 -4177.34 -4177.34  \n",
       "2        True        NaN        NaT    Ignore      NaN -4177.34 -4177.34  \n",
       "3        True        NaN        NaT    Ignore   -54.27 -4177.34 -4177.34  \n",
       "4        True        NaN        NaT    Ignore      NaN -4177.34 -4177.34  "
      ],
      "text/html": "<div>\n<style scoped>\n    .dataframe tbody tr th:only-of-type {\n        vertical-align: middle;\n    }\n\n    .dataframe tbody tr th {\n        vertical-align: top;\n    }\n\n    .dataframe thead th {\n        text-align: right;\n    }\n</style>\n<table border=\"1\" class=\"dataframe\">\n  <thead>\n    <tr style=\"text-align: right;\">\n      <th></th>\n      <th>sort1</th>\n      <th>sort2</th>\n      <th>sort3</th>\n      <th>category</th>\n      <th>sub_group</th>\n      <th>group</th>\n      <th>show_cat</th>\n      <th>show_sub</th>\n      <th>show_group</th>\n      <th>recurrence</th>\n      <th>recur_date</th>\n      <th>necessity</th>\n      <th>amt</th>\n      <th>amt2</th>\n      <th>amt3</th>\n    </tr>\n  </thead>\n  <tbody>\n    <tr>\n      <th>0</th>\n      <td>1</td>\n      <td>0</td>\n      <td>0</td>\n      <td>Income</td>\n      <td>Income</td>\n      <td>Income</td>\n      <td>False</td>\n      <td>True</td>\n      <td>True</td>\n      <td>NaN</td>\n      <td>NaT</td>\n      <td>Ignore</td>\n      <td>-12.35</td>\n      <td>-4177.34</td>\n      <td>-4177.34</td>\n    </tr>\n    <tr>\n      <th>1</th>\n      <td>1</td>\n      <td>1</td>\n      <td>1</td>\n      <td>Paycheck</td>\n      <td>Income</td>\n      <td>Income</td>\n      <td>True</td>\n      <td>True</td>\n      <td>True</td>\n      <td>bi-weekly</td>\n      <td>2021-01-07</td>\n      <td>Ignore</td>\n      <td>-4110.72</td>\n      <td>-4177.34</td>\n      <td>-4177.34</td>\n    </tr>\n    <tr>\n      <th>2</th>\n      <td>1</td>\n      <td>1</td>\n      <td>2</td>\n      <td>Bonus</td>\n      <td>Income</td>\n      <td>Income</td>\n      <td>False</td>\n      <td>True</td>\n      <td>True</td>\n      <td>NaN</td>\n      <td>NaT</td>\n      <td>Ignore</td>\n      <td>NaN</td>\n      <td>-4177.34</td>\n      <td>-4177.34</td>\n    </tr>\n    <tr>\n      <th>3</th>\n      <td>1</td>\n      <td>1</td>\n      <td>3</td>\n      <td>Interest Income</td>\n      <td>Income</td>\n      <td>Income</td>\n      <td>False</td>\n      <td>True</td>\n      <td>True</td>\n      <td>NaN</td>\n      <td>NaT</td>\n      <td>Ignore</td>\n      <td>-54.27</td>\n      <td>-4177.34</td>\n      <td>-4177.34</td>\n    </tr>\n    <tr>\n      <th>4</th>\n      <td>1</td>\n      <td>1</td>\n      <td>4</td>\n      <td>Rental Income</td>\n      <td>Income</td>\n      <td>Income</td>\n      <td>False</td>\n      <td>True</td>\n      <td>True</td>\n      <td>NaN</td>\n      <td>NaT</td>\n      <td>Ignore</td>\n      <td>NaN</td>\n      <td>-4177.34</td>\n      <td>-4177.34</td>\n    </tr>\n  </tbody>\n</table>\n</div>"
     },
     "metadata": {},
     "execution_count": 19
    }
   ],
   "source": [
    "budget_temp['amt2'] = budget_temp.groupby(['sub_group'])['amt'].transform('sum')\r\n",
    "budget_temp['amt3'] = budget_temp.groupby(['group'])['amt'].transform('sum')\r\n",
    "budget_temp.sort_values(by=['sort1', 'sort2', 'sort3'], inplace=True)\r\n",
    "budget_temp.head(5)"
   ]
  },
  {
   "cell_type": "code",
   "execution_count": 31,
   "metadata": {},
   "outputs": [
    {
     "output_type": "execute_result",
     "data": {
      "text/plain": [
       "category    Home Insurance\n",
       "amt                    NaN\n",
       "Name: 9, dtype: object"
      ]
     },
     "metadata": {},
     "execution_count": 31
    }
   ],
   "source": [
    "budget_temp.loc[9, ['category', 'amt']]"
   ]
  },
  {
   "cell_type": "code",
   "execution_count": 32,
   "metadata": {
    "tags": []
   },
   "outputs": [],
   "source": [
    "budget_analysis = pd.DataFrame(columns = ['category', 'amt'])\n",
    "prev_group = ''\n",
    "prev_sub = ''\n",
    "prev_cat = ''\n",
    "count = 0\n",
    "for index, row in budget_temp.iterrows():\n",
    "    next_value = budget_temp.loc[index, 'group']\n",
    "    if next_value == prev_group or budget_temp.loc[index, 'show_group'] == False:\n",
    "        pass\n",
    "    else:\n",
    "        budget_analysis.loc[count, 'category'] = next_value\n",
    "        budget_analysis.loc[count, 'amt'] = budget_temp.loc[index, 'amt3']\n",
    "        prev_group = next_value\n",
    "        count += 1\n",
    "    next_value = budget_temp.loc[index, 'sub_group']\n",
    "    if next_value == prev_group or next_value == prev_sub or budget_temp.loc[index, 'show_sub'] == False:\n",
    "        pass\n",
    "    else:\n",
    "        budget_analysis.loc[count, 'category'] = next_value\n",
    "        budget_analysis.loc[count, 'amt'] = budget_temp.loc[index, 'amt2']\n",
    "        prev_sub = next_value\n",
    "        count += 1\n",
    "    next_value = budget_temp.loc[index, 'category']\n",
    "    if next_value == prev_group or next_value == prev_sub or next_value == prev_cat or budget_temp.loc[index, 'show_cat'] == False:\n",
    "        pass\n",
    "    else:\n",
    "        budget_analysis.loc[count, 'category'] = next_value\n",
    "        budget_analysis.loc[count, 'amt'] = budget_temp.loc[index, 'amt']\n",
    "        prev_cat = next_value\n",
    "        count += 1"
   ]
  },
  {
   "cell_type": "code",
   "execution_count": 33,
   "metadata": {},
   "outputs": [],
   "source": [
    "budget_analysis.to_csv('test.csv')"
   ]
  },
  {
   "source": [
    "# To-Do's\n",
    "- Store budget information\n",
    "- Create dictionary of Mint categories to more general categories\n",
    "- Create calendar of how to predict upcoming paychecks\n",
    "- Make list/calendar of upcoming expenses\n",
    "- Calculate remaining budget based off upcoming expenses\n",
    "- Create budget analysis (regression and past month)\n",
    "- Create graphs and visuals\n",
    "- Machine Learning budget"
   ],
   "cell_type": "markdown",
   "metadata": {}
  }
 ]
}