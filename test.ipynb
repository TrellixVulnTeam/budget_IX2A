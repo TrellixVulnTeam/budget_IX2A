{
 "metadata": {
  "language_info": {
   "codemirror_mode": {
    "name": "ipython",
    "version": 3
   },
   "file_extension": ".py",
   "mimetype": "text/x-python",
   "name": "python",
   "nbconvert_exporter": "python",
   "pygments_lexer": "ipython3",
   "version": "3.9.1-final"
  },
  "orig_nbformat": 2,
  "kernelspec": {
   "name": "python3",
   "display_name": "Python 3.9.1 64-bit ('budget': conda)",
   "metadata": {
    "interpreter": {
     "hash": "76ad0f5bc9d8f1a028f98df54606bce9f80382f8cc45d3df6477efabc85c159c"
    }
   }
  }
 },
 "nbformat": 4,
 "nbformat_minor": 2,
 "cells": [
  {
   "cell_type": "code",
   "execution_count": 3,
   "metadata": {},
   "outputs": [],
   "source": [
    "import pandas as pd"
   ]
  },
  {
   "cell_type": "code",
   "execution_count": 4,
   "metadata": {},
   "outputs": [],
   "source": [
    "chase = pd.read_csv('ChaseCC.csv')\n",
    "citi = pd.read_csv('CitiCC.csv')\n",
    "mint = pd.read_csv('Mint.csv')"
   ]
  },
  {
   "cell_type": "code",
   "execution_count": 5,
   "metadata": {},
   "outputs": [
    {
     "output_type": "execute_result",
     "data": {
      "text/plain": [
       "  Transaction Date   Post Date         Description           Category  Type  \\\n",
       "0       12/21/2020  12/21/2020         UBER   EATS       Food & Drink  Sale   \n",
       "1       12/16/2020  12/17/2020  TVY*FITNESSYOURWAY  Health & Wellness  Sale   \n",
       "2       12/14/2020  12/14/2020         UBER   EATS       Food & Drink  Sale   \n",
       "3       12/13/2020  12/13/2020         UBER   EATS       Food & Drink  Sale   \n",
       "4       12/10/2020  12/11/2020    SPRINT *WIRELESS  Bills & Utilities  Sale   \n",
       "\n",
       "   Amount  Memo  \n",
       "0  -47.69   NaN  \n",
       "1  -25.00   NaN  \n",
       "2  -32.66   NaN  \n",
       "3  -42.77   NaN  \n",
       "4 -114.54   NaN  "
      ],
      "text/html": "<div>\n<style scoped>\n    .dataframe tbody tr th:only-of-type {\n        vertical-align: middle;\n    }\n\n    .dataframe tbody tr th {\n        vertical-align: top;\n    }\n\n    .dataframe thead th {\n        text-align: right;\n    }\n</style>\n<table border=\"1\" class=\"dataframe\">\n  <thead>\n    <tr style=\"text-align: right;\">\n      <th></th>\n      <th>Transaction Date</th>\n      <th>Post Date</th>\n      <th>Description</th>\n      <th>Category</th>\n      <th>Type</th>\n      <th>Amount</th>\n      <th>Memo</th>\n    </tr>\n  </thead>\n  <tbody>\n    <tr>\n      <th>0</th>\n      <td>12/21/2020</td>\n      <td>12/21/2020</td>\n      <td>UBER   EATS</td>\n      <td>Food &amp; Drink</td>\n      <td>Sale</td>\n      <td>-47.69</td>\n      <td>NaN</td>\n    </tr>\n    <tr>\n      <th>1</th>\n      <td>12/16/2020</td>\n      <td>12/17/2020</td>\n      <td>TVY*FITNESSYOURWAY</td>\n      <td>Health &amp; Wellness</td>\n      <td>Sale</td>\n      <td>-25.00</td>\n      <td>NaN</td>\n    </tr>\n    <tr>\n      <th>2</th>\n      <td>12/14/2020</td>\n      <td>12/14/2020</td>\n      <td>UBER   EATS</td>\n      <td>Food &amp; Drink</td>\n      <td>Sale</td>\n      <td>-32.66</td>\n      <td>NaN</td>\n    </tr>\n    <tr>\n      <th>3</th>\n      <td>12/13/2020</td>\n      <td>12/13/2020</td>\n      <td>UBER   EATS</td>\n      <td>Food &amp; Drink</td>\n      <td>Sale</td>\n      <td>-42.77</td>\n      <td>NaN</td>\n    </tr>\n    <tr>\n      <th>4</th>\n      <td>12/10/2020</td>\n      <td>12/11/2020</td>\n      <td>SPRINT *WIRELESS</td>\n      <td>Bills &amp; Utilities</td>\n      <td>Sale</td>\n      <td>-114.54</td>\n      <td>NaN</td>\n    </tr>\n  </tbody>\n</table>\n</div>"
     },
     "metadata": {},
     "execution_count": 5
    }
   ],
   "source": [
    "chase.head(5)"
   ]
  },
  {
   "cell_type": "code",
   "execution_count": 6,
   "metadata": {},
   "outputs": [
    {
     "output_type": "execute_result",
     "data": {
      "text/plain": [
       "    Status        Date                                        Description  \\\n",
       "0  Cleared  12/24/2020  PAYPAL *B H PHOTO 4029357733 NY Digital Accoun...   \n",
       "1  Cleared  12/24/2020                PAYPAL *AMAGICOM AB 35314369001 SWE   \n",
       "2  Cleared  12/22/2020                 TRADER JOE'S #692 QPS BRENTWOOD MO   \n",
       "3  Cleared  12/21/2020  PAYPAL *SPOTIFYUSAI 4029357733 NY Digital Acco...   \n",
       "4  Cleared  12/19/2020               Amazon Prime*YG8V21593 8665572820 WA   \n",
       "\n",
       "    Debit  Credit  \n",
       "0     NaN -449.99  \n",
       "1    6.36     NaN  \n",
       "2  115.62     NaN  \n",
       "3   10.69     NaN  \n",
       "4  126.14     NaN  "
      ],
      "text/html": "<div>\n<style scoped>\n    .dataframe tbody tr th:only-of-type {\n        vertical-align: middle;\n    }\n\n    .dataframe tbody tr th {\n        vertical-align: top;\n    }\n\n    .dataframe thead th {\n        text-align: right;\n    }\n</style>\n<table border=\"1\" class=\"dataframe\">\n  <thead>\n    <tr style=\"text-align: right;\">\n      <th></th>\n      <th>Status</th>\n      <th>Date</th>\n      <th>Description</th>\n      <th>Debit</th>\n      <th>Credit</th>\n    </tr>\n  </thead>\n  <tbody>\n    <tr>\n      <th>0</th>\n      <td>Cleared</td>\n      <td>12/24/2020</td>\n      <td>PAYPAL *B H PHOTO 4029357733 NY Digital Accoun...</td>\n      <td>NaN</td>\n      <td>-449.99</td>\n    </tr>\n    <tr>\n      <th>1</th>\n      <td>Cleared</td>\n      <td>12/24/2020</td>\n      <td>PAYPAL *AMAGICOM AB 35314369001 SWE</td>\n      <td>6.36</td>\n      <td>NaN</td>\n    </tr>\n    <tr>\n      <th>2</th>\n      <td>Cleared</td>\n      <td>12/22/2020</td>\n      <td>TRADER JOE'S #692 QPS BRENTWOOD MO</td>\n      <td>115.62</td>\n      <td>NaN</td>\n    </tr>\n    <tr>\n      <th>3</th>\n      <td>Cleared</td>\n      <td>12/21/2020</td>\n      <td>PAYPAL *SPOTIFYUSAI 4029357733 NY Digital Acco...</td>\n      <td>10.69</td>\n      <td>NaN</td>\n    </tr>\n    <tr>\n      <th>4</th>\n      <td>Cleared</td>\n      <td>12/19/2020</td>\n      <td>Amazon Prime*YG8V21593 8665572820 WA</td>\n      <td>126.14</td>\n      <td>NaN</td>\n    </tr>\n  </tbody>\n</table>\n</div>"
     },
     "metadata": {},
     "execution_count": 6
    }
   ],
   "source": [
    "citi.head(5)"
   ]
  },
  {
   "cell_type": "code",
   "execution_count": 7,
   "metadata": {},
   "outputs": [
    {
     "output_type": "execute_result",
     "data": {
      "text/plain": [
       "         Date                          Description  \\\n",
       "0  12/26/2020                    PAYMENT THANK YOU   \n",
       "1  12/24/2020  MICRO CENTER BRNTWD-09 BRENTWOOD MO   \n",
       "2  12/25/2020                        Interest Paid   \n",
       "3  12/24/2020                            B H Photo   \n",
       "4  12/24/2020          AMAGICOM AB 35314369001 SWE   \n",
       "\n",
       "                  Original Description   Amount Transaction Type  \\\n",
       "0                    PAYMENT THANK YOU  1550.96           credit   \n",
       "1  MICRO CENTER BRNTWD-09 BRENTWOOD MO   498.32            debit   \n",
       "2                        Interest Paid     8.86           credit   \n",
       "3      PAYPAL *B H PHOTO 4029357733 NY   449.99           credit   \n",
       "4  PAYPAL *AMAGICOM AB 35314369001 SWE     6.36            debit   \n",
       "\n",
       "              Category                          Account Name  Labels  Notes  \n",
       "0  Credit Card Payment  Citi® / AAdvantage® Platinum Select®     NaN    NaN  \n",
       "1             Shopping  Citi® / AAdvantage® Platinum Select®     NaN    NaN  \n",
       "2      Interest Income                Online Savings Account     NaN    NaN  \n",
       "3             Shopping  Citi® / AAdvantage® Platinum Select®     NaN    NaN  \n",
       "4             Shopping  Citi® / AAdvantage® Platinum Select®     NaN    NaN  "
      ],
      "text/html": "<div>\n<style scoped>\n    .dataframe tbody tr th:only-of-type {\n        vertical-align: middle;\n    }\n\n    .dataframe tbody tr th {\n        vertical-align: top;\n    }\n\n    .dataframe thead th {\n        text-align: right;\n    }\n</style>\n<table border=\"1\" class=\"dataframe\">\n  <thead>\n    <tr style=\"text-align: right;\">\n      <th></th>\n      <th>Date</th>\n      <th>Description</th>\n      <th>Original Description</th>\n      <th>Amount</th>\n      <th>Transaction Type</th>\n      <th>Category</th>\n      <th>Account Name</th>\n      <th>Labels</th>\n      <th>Notes</th>\n    </tr>\n  </thead>\n  <tbody>\n    <tr>\n      <th>0</th>\n      <td>12/26/2020</td>\n      <td>PAYMENT THANK YOU</td>\n      <td>PAYMENT THANK YOU</td>\n      <td>1550.96</td>\n      <td>credit</td>\n      <td>Credit Card Payment</td>\n      <td>Citi® / AAdvantage® Platinum Select®</td>\n      <td>NaN</td>\n      <td>NaN</td>\n    </tr>\n    <tr>\n      <th>1</th>\n      <td>12/24/2020</td>\n      <td>MICRO CENTER BRNTWD-09 BRENTWOOD MO</td>\n      <td>MICRO CENTER BRNTWD-09 BRENTWOOD MO</td>\n      <td>498.32</td>\n      <td>debit</td>\n      <td>Shopping</td>\n      <td>Citi® / AAdvantage® Platinum Select®</td>\n      <td>NaN</td>\n      <td>NaN</td>\n    </tr>\n    <tr>\n      <th>2</th>\n      <td>12/25/2020</td>\n      <td>Interest Paid</td>\n      <td>Interest Paid</td>\n      <td>8.86</td>\n      <td>credit</td>\n      <td>Interest Income</td>\n      <td>Online Savings Account</td>\n      <td>NaN</td>\n      <td>NaN</td>\n    </tr>\n    <tr>\n      <th>3</th>\n      <td>12/24/2020</td>\n      <td>B H Photo</td>\n      <td>PAYPAL *B H PHOTO 4029357733 NY</td>\n      <td>449.99</td>\n      <td>credit</td>\n      <td>Shopping</td>\n      <td>Citi® / AAdvantage® Platinum Select®</td>\n      <td>NaN</td>\n      <td>NaN</td>\n    </tr>\n    <tr>\n      <th>4</th>\n      <td>12/24/2020</td>\n      <td>AMAGICOM AB 35314369001 SWE</td>\n      <td>PAYPAL *AMAGICOM AB 35314369001 SWE</td>\n      <td>6.36</td>\n      <td>debit</td>\n      <td>Shopping</td>\n      <td>Citi® / AAdvantage® Platinum Select®</td>\n      <td>NaN</td>\n      <td>NaN</td>\n    </tr>\n  </tbody>\n</table>\n</div>"
     },
     "metadata": {},
     "execution_count": 7
    }
   ],
   "source": [
    "mint.head(5)"
   ]
  },
  {
   "cell_type": "code",
   "execution_count": null,
   "metadata": {},
   "outputs": [],
   "source": []
  }
 ]
}